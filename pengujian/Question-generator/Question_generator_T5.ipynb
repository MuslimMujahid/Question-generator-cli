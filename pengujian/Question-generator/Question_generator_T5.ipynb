{
  "nbformat": 4,
  "nbformat_minor": 0,
  "metadata": {
    "colab": {
      "name": "Question generator T5.ipynb",
      "provenance": []
    },
    "kernelspec": {
      "name": "python3",
      "display_name": "Python 3"
    },
    "language_info": {
      "name": "python"
    }
  },
  "cells": [
    {
      "cell_type": "code",
      "metadata": {
        "id": "pmWNILk1DEbH"
      },
      "source": [
        "!pip install transformers --quiet\n",
        "!pip install sentencepiece --quiet"
      ],
      "execution_count": 33,
      "outputs": []
    },
    {
      "cell_type": "code",
      "metadata": {
        "colab": {
          "base_uri": "https://localhost:8080/"
        },
        "id": "lfungnD6GAkX",
        "outputId": "0c866e3a-9a20-44c9-9fd1-3d3fa7a594c7"
      },
      "source": [
        "from google.colab import drive\n",
        "drive.mount('/content/drive')"
      ],
      "execution_count": 34,
      "outputs": [
        {
          "output_type": "stream",
          "name": "stdout",
          "text": [
            "Drive already mounted at /content/drive; to attempt to forcibly remount, call drive.mount(\"/content/drive\", force_remount=True).\n"
          ]
        }
      ]
    },
    {
      "cell_type": "code",
      "metadata": {
        "colab": {
          "base_uri": "https://localhost:8080/"
        },
        "id": "Apk20cnzGQYG",
        "outputId": "056a0d29-b231-40c6-a049-1cac7af0c15f"
      },
      "source": [
        "!ls 'drive/MyDrive/Kuliah/Semester 7/Pemrosesan Bahasa Alami/Tugas besar/dataset'"
      ],
      "execution_count": 35,
      "outputs": [
        {
          "output_type": "stream",
          "name": "stdout",
          "text": [
            "SQuAD-v1.1.csv\n"
          ]
        }
      ]
    },
    {
      "cell_type": "code",
      "metadata": {
        "id": "y82CWqAt_jEF"
      },
      "source": [
        "import torch\n",
        "import transformers\n",
        "from transformers import T5Tokenizer, T5ForConditionalGeneration, T5Config\n",
        "import spacy\n",
        "import pandas as pd"
      ],
      "execution_count": 36,
      "outputs": []
    },
    {
      "cell_type": "code",
      "metadata": {
        "id": "SOG_2siuwbtQ"
      },
      "source": [
        "DIR = 'drive/MyDrive/Kuliah/Semester 7/Pemrosesan Bahasa Alami/Tugas besar/'\n",
        "SEQ_LENGTH = 512\n",
        "PRETRAINED_MODEL = 't5-base'"
      ],
      "execution_count": 37,
      "outputs": []
    },
    {
      "cell_type": "code",
      "metadata": {
        "id": "IzgPhlY5wYSA"
      },
      "source": [
        "df = pd.read_csv(DIR + 'dataset/SQuAD-v1.1.csv')"
      ],
      "execution_count": 38,
      "outputs": []
    },
    {
      "cell_type": "code",
      "metadata": {
        "colab": {
          "base_uri": "https://localhost:8080/"
        },
        "id": "Epj6e_YsxERw",
        "outputId": "25964ce5-bbef-4daf-ba67-404c2da95503"
      },
      "source": [
        "df = df.dropna()\n",
        "df.isnull().values.any()"
      ],
      "execution_count": 39,
      "outputs": [
        {
          "output_type": "execute_result",
          "data": {
            "text/plain": [
              "False"
            ]
          },
          "metadata": {},
          "execution_count": 39
        }
      ]
    },
    {
      "cell_type": "code",
      "metadata": {
        "colab": {
          "base_uri": "https://localhost:8080/",
          "height": 204
        },
        "id": "uY1w6K_txKNY",
        "outputId": "af687dd3-f27b-4a98-89b4-c4094903d690"
      },
      "source": [
        "dataset = df[533:633].drop(columns=['title', 'answer_start', 'answer_end', 'question']).reset_index()\n",
        "dataset.head()"
      ],
      "execution_count": 40,
      "outputs": [
        {
          "output_type": "execute_result",
          "data": {
            "text/html": [
              "<div>\n",
              "<style scoped>\n",
              "    .dataframe tbody tr th:only-of-type {\n",
              "        vertical-align: middle;\n",
              "    }\n",
              "\n",
              "    .dataframe tbody tr th {\n",
              "        vertical-align: top;\n",
              "    }\n",
              "\n",
              "    .dataframe thead th {\n",
              "        text-align: right;\n",
              "    }\n",
              "</style>\n",
              "<table border=\"1\" class=\"dataframe\">\n",
              "  <thead>\n",
              "    <tr style=\"text-align: right;\">\n",
              "      <th></th>\n",
              "      <th>index</th>\n",
              "      <th>context</th>\n",
              "      <th>answer</th>\n",
              "    </tr>\n",
              "  </thead>\n",
              "  <tbody>\n",
              "    <tr>\n",
              "      <th>0</th>\n",
              "      <td>533</td>\n",
              "      <td>On January 7, 2012, Beyoncé gave birth to her ...</td>\n",
              "      <td>January 7, 2012</td>\n",
              "    </tr>\n",
              "    <tr>\n",
              "      <th>1</th>\n",
              "      <td>534</td>\n",
              "      <td>On January 7, 2012, Beyoncé gave birth to her ...</td>\n",
              "      <td>Blue Ivy Carter</td>\n",
              "    </tr>\n",
              "    <tr>\n",
              "      <th>2</th>\n",
              "      <td>535</td>\n",
              "      <td>On January 7, 2012, Beyoncé gave birth to her ...</td>\n",
              "      <td>Lenox Hill Hospital in New York.</td>\n",
              "    </tr>\n",
              "    <tr>\n",
              "      <th>3</th>\n",
              "      <td>536</td>\n",
              "      <td>On January 7, 2012, Beyoncé gave birth to her ...</td>\n",
              "      <td>Revel Atlantic City's Ovation Hall</td>\n",
              "    </tr>\n",
              "    <tr>\n",
              "      <th>4</th>\n",
              "      <td>537</td>\n",
              "      <td>On January 7, 2012, Beyoncé gave birth to her ...</td>\n",
              "      <td>four</td>\n",
              "    </tr>\n",
              "  </tbody>\n",
              "</table>\n",
              "</div>"
            ],
            "text/plain": [
              "   index  ...                              answer\n",
              "0    533  ...                     January 7, 2012\n",
              "1    534  ...                     Blue Ivy Carter\n",
              "2    535  ...    Lenox Hill Hospital in New York.\n",
              "3    536  ...  Revel Atlantic City's Ovation Hall\n",
              "4    537  ...                                four\n",
              "\n",
              "[5 rows x 3 columns]"
            ]
          },
          "metadata": {},
          "execution_count": 40
        }
      ]
    },
    {
      "cell_type": "code",
      "metadata": {
        "id": "zpnAQz0e50er"
      },
      "source": [
        "# dataset.to_csv(DIR + 'datauji-Question-generator.csv', index=False)"
      ],
      "execution_count": 41,
      "outputs": []
    },
    {
      "cell_type": "code",
      "metadata": {
        "colab": {
          "base_uri": "https://localhost:8080/"
        },
        "id": "JJCeRqs8EJjW",
        "outputId": "a4455f4e-615b-4ce6-cf7b-de0fce933085"
      },
      "source": [
        "tokenizer = T5Tokenizer.from_pretrained(PRETRAINED_MODEL)\n",
        "tokenizer.add_special_tokens(\n",
        "    {'additional_special_tokens': ['<answer>', '<context>']}\n",
        ")"
      ],
      "execution_count": 42,
      "outputs": [
        {
          "output_type": "execute_result",
          "data": {
            "text/plain": [
              "2"
            ]
          },
          "metadata": {},
          "execution_count": 42
        }
      ]
    },
    {
      "cell_type": "code",
      "metadata": {
        "colab": {
          "base_uri": "https://localhost:8080/"
        },
        "id": "6gDa3-e0Ctgd",
        "outputId": "d6e93929-3187-41b3-948e-f6328c07b6b8"
      },
      "source": [
        "saved = torch.load(DIR + 'model/qg_pretrained_t5_model_trained.pth', map_location='cpu')\n",
        "config = T5Config(decoder_start_token_id=tokenizer.pad_token_id)\n",
        "model = T5ForConditionalGeneration(config).from_pretrained(PRETRAINED_MODEL)\n",
        "model.resize_token_embeddings(len(tokenizer))\n",
        "model.load_state_dict(saved['model_state_dict'])"
      ],
      "execution_count": 43,
      "outputs": [
        {
          "output_type": "execute_result",
          "data": {
            "text/plain": [
              "<All keys matched successfully>"
            ]
          },
          "metadata": {},
          "execution_count": 43
        }
      ]
    },
    {
      "cell_type": "code",
      "metadata": {
        "id": "iqDS8nhJUrap"
      },
      "source": [
        "def inference(dataset):\n",
        "  input_texts = '<answer> ' + dataset['answer'] + ' <context> ' + dataset['context']\n",
        "  input_sequences = tokenizer(\n",
        "            input_texts.tolist(), \n",
        "            padding='max_length', \n",
        "            max_length=SEQ_LENGTH,\n",
        "            truncation=True,\n",
        "            return_tensors=\"pt\"\n",
        "        )\n",
        "  \n",
        "  output_sequences = model.generate(\n",
        "      input_ids=input_sequences['input_ids'],\n",
        "      attention_mask=input_sequences['attention_mask']\n",
        "  )\n",
        "\n",
        "  questions = tokenizer.batch_decode(output_sequences, skip_special_tokens=True)\n",
        "  \n",
        "  return pd.DataFrame({\n",
        "      'context': dataset['context'],\n",
        "      'question': questions,\n",
        "      'answer': dataset['answer']\n",
        "  })\n"
      ],
      "execution_count": 44,
      "outputs": []
    },
    {
      "cell_type": "code",
      "metadata": {
        "id": "mQbXrlFwHaho"
      },
      "source": [
        "results = inference(dataset)"
      ],
      "execution_count": 45,
      "outputs": []
    },
    {
      "cell_type": "code",
      "metadata": {
        "id": "Prq1Ef7VyuDg"
      },
      "source": [
        "results.to_csv(DIR + 'hasiluji-Question-generator-T5.csv')"
      ],
      "execution_count": 46,
      "outputs": []
    }
  ]
}