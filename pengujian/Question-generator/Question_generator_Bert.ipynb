{
  "nbformat": 4,
  "nbformat_minor": 0,
  "metadata": {
    "colab": {
      "name": "Question generator Bert.ipynb",
      "provenance": [],
      "collapsed_sections": []
    },
    "kernelspec": {
      "name": "python3",
      "display_name": "Python 3"
    },
    "language_info": {
      "name": "python"
    }
  },
  "cells": [
    {
      "cell_type": "code",
      "metadata": {
        "id": "pmWNILk1DEbH"
      },
      "source": [
        "!pip install transformers --quiet\n",
        "!pip install sentencepiece --quiet"
      ],
      "execution_count": 1,
      "outputs": []
    },
    {
      "cell_type": "code",
      "metadata": {
        "colab": {
          "base_uri": "https://localhost:8080/"
        },
        "id": "lfungnD6GAkX",
        "outputId": "040084bb-ca3a-4f81-c1c5-a934ebc8b57c"
      },
      "source": [
        "from google.colab import drive\n",
        "drive.mount('/content/drive')"
      ],
      "execution_count": 2,
      "outputs": [
        {
          "output_type": "stream",
          "name": "stdout",
          "text": [
            "Drive already mounted at /content/drive; to attempt to forcibly remount, call drive.mount(\"/content/drive\", force_remount=True).\n"
          ]
        }
      ]
    },
    {
      "cell_type": "code",
      "metadata": {
        "colab": {
          "base_uri": "https://localhost:8080/"
        },
        "id": "Apk20cnzGQYG",
        "outputId": "10a17087-a5b3-402b-d74e-4e48ed5e1e76"
      },
      "source": [
        "!ls 'drive/MyDrive/Kuliah/Semester 7/Pemrosesan Bahasa Alami/Tugas besar'"
      ],
      "execution_count": 3,
      "outputs": [
        {
          "output_type": "stream",
          "name": "stdout",
          "text": [
            " dataset\t\t\t  ppt.pptx\n",
            " datauji-Question-generator.csv  'Question generator Bert.ipynb'\n",
            " hasiluji-Question-generator-T5  'Question generator main '\n",
            " model\t\t\t\t 'Question generator T5.ipynb'\n"
          ]
        }
      ]
    },
    {
      "cell_type": "code",
      "metadata": {
        "id": "y82CWqAt_jEF"
      },
      "source": [
        "import torch\n",
        "import transformers\n",
        "from transformers import BertLMHeadModel, BertConfig, BertTokenizer\n",
        "import pandas as pd"
      ],
      "execution_count": 4,
      "outputs": []
    },
    {
      "cell_type": "code",
      "metadata": {
        "id": "e3WZBGab6IXi"
      },
      "source": [
        "DIR = 'drive/MyDrive/Kuliah/Semester 7/Pemrosesan Bahasa Alami/Tugas besar/'\n",
        "SEQ_LENGTH = 512\n",
        "PRETRAINED_MODEL = 'bert-base-uncased'"
      ],
      "execution_count": 5,
      "outputs": []
    },
    {
      "cell_type": "code",
      "metadata": {
        "id": "N0MSJLFN6cVK"
      },
      "source": [
        "df = pd.read_csv(DIR + 'dataset/SQuAD-v1.1.csv')"
      ],
      "execution_count": 6,
      "outputs": []
    },
    {
      "cell_type": "code",
      "metadata": {
        "colab": {
          "base_uri": "https://localhost:8080/"
        },
        "id": "uQ-Ackp76cy6",
        "outputId": "775b9241-0e08-4496-f54f-24748147eafb"
      },
      "source": [
        "df = df.dropna()\n",
        "df.isnull().values.any()"
      ],
      "execution_count": 7,
      "outputs": [
        {
          "output_type": "execute_result",
          "data": {
            "text/plain": [
              "False"
            ]
          },
          "metadata": {},
          "execution_count": 7
        }
      ]
    },
    {
      "cell_type": "code",
      "metadata": {
        "colab": {
          "base_uri": "https://localhost:8080/",
          "height": 204
        },
        "id": "YljeO6Bv6eTR",
        "outputId": "db1c7362-76f3-4c92-aedf-3d1ae534a4aa"
      },
      "source": [
        "dataset = df[533:633].drop(columns=['title', 'answer_start', 'answer_end', 'question']).reset_index()\n",
        "dataset.head()"
      ],
      "execution_count": 8,
      "outputs": [
        {
          "output_type": "execute_result",
          "data": {
            "text/html": [
              "<div>\n",
              "<style scoped>\n",
              "    .dataframe tbody tr th:only-of-type {\n",
              "        vertical-align: middle;\n",
              "    }\n",
              "\n",
              "    .dataframe tbody tr th {\n",
              "        vertical-align: top;\n",
              "    }\n",
              "\n",
              "    .dataframe thead th {\n",
              "        text-align: right;\n",
              "    }\n",
              "</style>\n",
              "<table border=\"1\" class=\"dataframe\">\n",
              "  <thead>\n",
              "    <tr style=\"text-align: right;\">\n",
              "      <th></th>\n",
              "      <th>index</th>\n",
              "      <th>context</th>\n",
              "      <th>answer</th>\n",
              "    </tr>\n",
              "  </thead>\n",
              "  <tbody>\n",
              "    <tr>\n",
              "      <th>0</th>\n",
              "      <td>533</td>\n",
              "      <td>On January 7, 2012, Beyoncé gave birth to her ...</td>\n",
              "      <td>January 7, 2012</td>\n",
              "    </tr>\n",
              "    <tr>\n",
              "      <th>1</th>\n",
              "      <td>534</td>\n",
              "      <td>On January 7, 2012, Beyoncé gave birth to her ...</td>\n",
              "      <td>Blue Ivy Carter</td>\n",
              "    </tr>\n",
              "    <tr>\n",
              "      <th>2</th>\n",
              "      <td>535</td>\n",
              "      <td>On January 7, 2012, Beyoncé gave birth to her ...</td>\n",
              "      <td>Lenox Hill Hospital in New York.</td>\n",
              "    </tr>\n",
              "    <tr>\n",
              "      <th>3</th>\n",
              "      <td>536</td>\n",
              "      <td>On January 7, 2012, Beyoncé gave birth to her ...</td>\n",
              "      <td>Revel Atlantic City's Ovation Hall</td>\n",
              "    </tr>\n",
              "    <tr>\n",
              "      <th>4</th>\n",
              "      <td>537</td>\n",
              "      <td>On January 7, 2012, Beyoncé gave birth to her ...</td>\n",
              "      <td>four</td>\n",
              "    </tr>\n",
              "  </tbody>\n",
              "</table>\n",
              "</div>"
            ],
            "text/plain": [
              "   index  ...                              answer\n",
              "0    533  ...                     January 7, 2012\n",
              "1    534  ...                     Blue Ivy Carter\n",
              "2    535  ...    Lenox Hill Hospital in New York.\n",
              "3    536  ...  Revel Atlantic City's Ovation Hall\n",
              "4    537  ...                                four\n",
              "\n",
              "[5 rows x 3 columns]"
            ]
          },
          "metadata": {},
          "execution_count": 8
        }
      ]
    },
    {
      "cell_type": "code",
      "metadata": {
        "colab": {
          "base_uri": "https://localhost:8080/"
        },
        "id": "JJCeRqs8EJjW",
        "outputId": "5b77c9ac-ae55-437d-8239-42584ecb64ea"
      },
      "source": [
        "tokenizer = BertTokenizer.from_pretrained(PRETRAINED_MODEL)\n",
        "tokenizer.add_special_tokens(\n",
        "    {'additional_special_tokens': ['<answer>', '<context>']}\n",
        ")"
      ],
      "execution_count": 9,
      "outputs": [
        {
          "output_type": "execute_result",
          "data": {
            "text/plain": [
              "2"
            ]
          },
          "metadata": {},
          "execution_count": 9
        }
      ]
    },
    {
      "cell_type": "code",
      "metadata": {
        "colab": {
          "base_uri": "https://localhost:8080/"
        },
        "id": "6gDa3-e0Ctgd",
        "outputId": "b19ee51c-b905-4c53-9916-d6e3a0da1477"
      },
      "source": [
        "saved = torch.load(DIR + 'model/qg_pretrained_bert_model_trained.pth', map_location='cpu')\n",
        "config = BertConfig(decoder_start_token_id=tokenizer.pad_token_id)\n",
        "config.is_decoder = True\n",
        "model = BertLMHeadModel(config).from_pretrained(PRETRAINED_MODEL)\n",
        "model.resize_token_embeddings(len(tokenizer))\n",
        "model.load_state_dict(saved['model_state_dict'])"
      ],
      "execution_count": 10,
      "outputs": [
        {
          "output_type": "stream",
          "name": "stderr",
          "text": [
            "If you want to use `BertLMHeadModel` as a standalone, add `is_decoder=True.`\n",
            "Some weights of the model checkpoint at bert-base-uncased were not used when initializing BertLMHeadModel: ['cls.seq_relationship.bias', 'cls.seq_relationship.weight']\n",
            "- This IS expected if you are initializing BertLMHeadModel from the checkpoint of a model trained on another task or with another architecture (e.g. initializing a BertForSequenceClassification model from a BertForPreTraining model).\n",
            "- This IS NOT expected if you are initializing BertLMHeadModel from the checkpoint of a model that you expect to be exactly identical (initializing a BertForSequenceClassification model from a BertForSequenceClassification model).\n"
          ]
        },
        {
          "output_type": "execute_result",
          "data": {
            "text/plain": [
              "<All keys matched successfully>"
            ]
          },
          "metadata": {},
          "execution_count": 10
        }
      ]
    },
    {
      "cell_type": "code",
      "metadata": {
        "id": "iqDS8nhJUrap"
      },
      "source": [
        "def inference(dataset):\n",
        "  input_texts = '<answer> ' + dataset['answer'] + ' <context> ' + dataset['context']\n",
        "  input_sequences = tokenizer(\n",
        "            input_texts.tolist(), \n",
        "            padding='max_length', \n",
        "            max_length=SEQ_LENGTH,\n",
        "            truncation=True,\n",
        "            return_tensors=\"pt\"\n",
        "        )\n",
        "  \n",
        "  output_sequences = model.generate(\n",
        "      input_ids=input_sequences['input_ids'],\n",
        "      attention_mask=input_sequences['attention_mask']\n",
        "  )\n",
        "\n",
        "  questions = tokenizer.batch_decode(output_sequences, skip_special_tokens=True)\n",
        "  \n",
        "  return pd.DataFrame({\n",
        "      'context': dataset['context'],\n",
        "      'question': questions,\n",
        "      'answer': dataset['answer']\n",
        "  })\n",
        "\n"
      ],
      "execution_count": 11,
      "outputs": []
    },
    {
      "cell_type": "code",
      "metadata": {
        "id": "mQbXrlFwHaho",
        "colab": {
          "base_uri": "https://localhost:8080/"
        },
        "outputId": "d63e400a-7b7b-497b-f2c8-84af3f6d207d"
      },
      "source": [
        "results = inference(dataset)"
      ],
      "execution_count": 12,
      "outputs": [
        {
          "output_type": "stream",
          "name": "stderr",
          "text": [
            "Input length of input_ids is 512, but ``max_length`` is set to 20. This can lead to unexpected behavior. You should consider increasing ``config.max_length`` or ``max_length``.\n"
          ]
        }
      ]
    },
    {
      "cell_type": "code",
      "metadata": {
        "id": "s4jYYvUw6YKp"
      },
      "source": [
        "results.to_csv(DIR + 'hasiluji-Question-generator-bert.csv')"
      ],
      "execution_count": 13,
      "outputs": []
    }
  ]
}