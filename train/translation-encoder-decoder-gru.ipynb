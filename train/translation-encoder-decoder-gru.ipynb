{
 "cells": [
  {
   "cell_type": "code",
   "execution_count": 1,
   "id": "51aed24f",
   "metadata": {
    "execution": {
     "iopub.execute_input": "2021-11-16T14:39:24.224471Z",
     "iopub.status.busy": "2021-11-16T14:39:24.222936Z",
     "iopub.status.idle": "2021-11-16T14:39:33.597850Z",
     "shell.execute_reply": "2021-11-16T14:39:33.597206Z",
     "shell.execute_reply.started": "2021-11-16T14:16:06.232877Z"
    },
    "papermill": {
     "duration": 9.409172,
     "end_time": "2021-11-16T14:39:33.598024",
     "exception": false,
     "start_time": "2021-11-16T14:39:24.188852",
     "status": "completed"
    },
    "tags": []
   },
   "outputs": [
    {
     "name": "stdout",
     "output_type": "stream",
     "text": [
      "Collecting sacrebleu\r\n",
      "  Downloading sacrebleu-2.0.0-py3-none-any.whl (90 kB)\r\n",
      "\u001b[K     |████████████████████████████████| 90 kB 636 kB/s \r\n",
      "\u001b[?25hRequirement already satisfied: portalocker in /opt/conda/lib/python3.7/site-packages (from sacrebleu) (2.3.2)\r\n",
      "Requirement already satisfied: numpy>=1.17 in /opt/conda/lib/python3.7/site-packages (from sacrebleu) (1.19.5)\r\n",
      "Requirement already satisfied: tabulate>=0.8.9 in /opt/conda/lib/python3.7/site-packages (from sacrebleu) (0.8.9)\r\n",
      "Requirement already satisfied: colorama in /opt/conda/lib/python3.7/site-packages (from sacrebleu) (0.4.4)\r\n",
      "Requirement already satisfied: regex in /opt/conda/lib/python3.7/site-packages (from sacrebleu) (2021.8.28)\r\n",
      "Installing collected packages: sacrebleu\r\n",
      "Successfully installed sacrebleu-2.0.0\r\n",
      "\u001b[33mWARNING: Running pip as the 'root' user can result in broken permissions and conflicting behaviour with the system package manager. It is recommended to use a virtual environment instead: https://pip.pypa.io/warnings/venv\u001b[0m\r\n"
     ]
    }
   ],
   "source": [
    "!pip install sacrebleu\n"
   ]
  },
  {
   "cell_type": "markdown",
   "id": "570477a6",
   "metadata": {},
   "source": [
    "Nama: Daniel Riyanto  \n",
    "NIM : 13518075"
   ]
  },
  {
   "cell_type": "markdown",
   "id": "48c320d7",
   "metadata": {
    "papermill": {
     "duration": 0.03045,
     "end_time": "2021-11-16T14:39:33.660411",
     "exception": false,
     "start_time": "2021-11-16T14:39:33.629961",
     "status": "completed"
    },
    "tags": []
   },
   "source": [
    "## Reading Data"
   ]
  },
  {
   "cell_type": "code",
   "execution_count": 2,
   "id": "0ddc9ae5",
   "metadata": {
    "execution": {
     "iopub.execute_input": "2021-11-16T14:39:33.727064Z",
     "iopub.status.busy": "2021-11-16T14:39:33.726207Z",
     "iopub.status.idle": "2021-11-16T14:39:39.441773Z",
     "shell.execute_reply": "2021-11-16T14:39:39.440606Z",
     "shell.execute_reply.started": "2021-11-16T14:16:16.516392Z"
    },
    "papermill": {
     "duration": 5.751295,
     "end_time": "2021-11-16T14:39:39.441974",
     "exception": false,
     "start_time": "2021-11-16T14:39:33.690679",
     "status": "completed"
    },
    "tags": []
   },
   "outputs": [],
   "source": [
    "import pandas as pd\n",
    "import numpy as np\n",
    "import tensorflow as tf\n",
    "import tensorflow_hub as hub\n",
    "from sklearn.model_selection import train_test_split\n",
    "from tensorflow.keras.layers import Layer, Input, GRU, Embedding, Dense\n",
    "from tensorflow.keras.models import Model\n",
    "import matplotlib.pyplot as plt\n",
    "import unicodedata\n",
    "import re\n",
    "import time"
   ]
  },
  {
   "cell_type": "code",
   "execution_count": 3,
   "id": "f750a1de",
   "metadata": {
    "execution": {
     "iopub.execute_input": "2021-11-16T14:39:39.547401Z",
     "iopub.status.busy": "2021-11-16T14:39:39.546639Z",
     "iopub.status.idle": "2021-11-16T14:39:39.549649Z",
     "shell.execute_reply": "2021-11-16T14:39:39.549140Z",
     "shell.execute_reply.started": "2021-11-16T14:16:16.526426Z"
    },
    "papermill": {
     "duration": 0.055749,
     "end_time": "2021-11-16T14:39:39.549801",
     "exception": false,
     "start_time": "2021-11-16T14:39:39.494052",
     "status": "completed"
    },
    "tags": []
   },
   "outputs": [],
   "source": [
    "# Converts the unicode file to ascii\n",
    "def unicode_to_ascii(s):\n",
    "    return ''.join(c for c in unicodedata.normalize('NFD', s)\n",
    "                 if unicodedata.category(c) != 'Mn')\n",
    "\n",
    "\n",
    "def preprocess_sentence(w):\n",
    "    w = unicode_to_ascii(w.lower().strip())\n",
    "\n",
    "    w = re.sub(r\"([?.!,¿])\", r\" \\1 \", w)\n",
    "    w = re.sub(r'[\" \"]+', \" \", w)\n",
    "    w = re.sub(r\"[^a-zA-Z?.!,¿]+\", \" \", w)\n",
    "    w = w.strip()\n",
    "    return w"
   ]
  },
  {
   "cell_type": "code",
   "execution_count": 4,
   "id": "16da85c3",
   "metadata": {
    "execution": {
     "iopub.execute_input": "2021-11-16T14:39:39.624108Z",
     "iopub.status.busy": "2021-11-16T14:39:39.623584Z",
     "iopub.status.idle": "2021-11-16T14:39:42.679078Z",
     "shell.execute_reply": "2021-11-16T14:39:42.678604Z",
     "shell.execute_reply.started": "2021-11-16T14:16:16.542576Z"
    },
    "papermill": {
     "duration": 3.095127,
     "end_time": "2021-11-16T14:39:42.679207",
     "exception": false,
     "start_time": "2021-11-16T14:39:39.584080",
     "status": "completed"
    },
    "tags": []
   },
   "outputs": [],
   "source": [
    "NUM_EXAMPLES = 12000\n",
    "\n",
    "id_strings_array = np.array([], dtype='object')\n",
    "with open('/kaggle/input/iwslt17/IWSLT17.train.en-id.id') as my_file:\n",
    "    for line in my_file.readlines():\n",
    "        if len(id_strings_array) < NUM_EXAMPLES:\n",
    "            id_strings_array = np.append(id_strings_array, line)\n",
    "        else:\n",
    "            break\n",
    "    id_strings_array = np.array([line.rstrip() for line in id_strings_array], dtype='object')\n",
    "\n",
    "en_strings_array = np.array([], dtype='object')\n",
    "with open('/kaggle/input/iwslt17/IWSLT17.train.en-id.en') as my_file:\n",
    "    for line in my_file.readlines():\n",
    "        if len(en_strings_array) < NUM_EXAMPLES:\n",
    "            en_strings_array = np.append(en_strings_array, line)\n",
    "        else:\n",
    "            break\n",
    "    en_strings_array = np.array([line.rstrip() for line in en_strings_array], dtype='object')\n",
    "\n",
    "df = pd.DataFrame({'english': en_strings_array,'indonesia': id_strings_array})\n",
    "\n",
    "df['indonesia'] = df.apply(lambda row: \"<start> \" + preprocess_sentence(row['indonesia']) + \" <end>\", axis=1)\n",
    "df['english'] = df.apply(lambda row: preprocess_sentence(row['english']), axis=1)"
   ]
  },
  {
   "cell_type": "code",
   "execution_count": 5,
   "id": "2335e808",
   "metadata": {
    "execution": {
     "iopub.execute_input": "2021-11-16T14:39:42.746583Z",
     "iopub.status.busy": "2021-11-16T14:39:42.745929Z",
     "iopub.status.idle": "2021-11-16T14:39:42.903595Z",
     "shell.execute_reply": "2021-11-16T14:39:42.904016Z",
     "shell.execute_reply.started": "2021-11-16T14:16:21.27421Z"
    },
    "papermill": {
     "duration": 0.194102,
     "end_time": "2021-11-16T14:39:42.904161",
     "exception": false,
     "start_time": "2021-11-16T14:39:42.710059",
     "status": "completed"
    },
    "tags": []
   },
   "outputs": [
    {
     "data": {
      "text/html": [
       "<div>\n",
       "<style scoped>\n",
       "    .dataframe tbody tr th:only-of-type {\n",
       "        vertical-align: middle;\n",
       "    }\n",
       "\n",
       "    .dataframe tbody tr th {\n",
       "        vertical-align: top;\n",
       "    }\n",
       "\n",
       "    .dataframe thead th {\n",
       "        text-align: right;\n",
       "    }\n",
       "</style>\n",
       "<table border=\"1\" class=\"dataframe\">\n",
       "  <thead>\n",
       "    <tr style=\"text-align: right;\">\n",
       "      <th></th>\n",
       "      <th>english</th>\n",
       "      <th>indonesia</th>\n",
       "    </tr>\n",
       "  </thead>\n",
       "  <tbody>\n",
       "    <tr>\n",
       "      <th>0</th>\n",
       "      <td>thank you so much , chris . and it s truly a g...</td>\n",
       "      <td>&lt;start&gt; terima kasih banyak , chris . dan adal...</td>\n",
       "    </tr>\n",
       "    <tr>\n",
       "      <th>1</th>\n",
       "      <td>i have been blown away by this conference , an...</td>\n",
       "      <td>&lt;start&gt; saya terharu sekali oleh konferensi in...</td>\n",
       "    </tr>\n",
       "    <tr>\n",
       "      <th>2</th>\n",
       "      <td>and i say that sincerely , partly because mock...</td>\n",
       "      <td>&lt;start&gt; dan saya katakan itu dari dalam hati s...</td>\n",
       "    </tr>\n",
       "    <tr>\n",
       "      <th>3</th>\n",
       "      <td>i ll tell you one quick story to illustrate wh...</td>\n",
       "      <td>&lt;start&gt; tepuk tangan biar saya ceritakan sebua...</td>\n",
       "    </tr>\n",
       "    <tr>\n",
       "      <th>4</th>\n",
       "      <td>it s a true story every bit of this is true .</td>\n",
       "      <td>&lt;start&gt; ini adalah cerita yang benar benar ter...</td>\n",
       "    </tr>\n",
       "  </tbody>\n",
       "</table>\n",
       "</div>"
      ],
      "text/plain": [
       "                                             english  \\\n",
       "0  thank you so much , chris . and it s truly a g...   \n",
       "1  i have been blown away by this conference , an...   \n",
       "2  and i say that sincerely , partly because mock...   \n",
       "3  i ll tell you one quick story to illustrate wh...   \n",
       "4      it s a true story every bit of this is true .   \n",
       "\n",
       "                                           indonesia  \n",
       "0  <start> terima kasih banyak , chris . dan adal...  \n",
       "1  <start> saya terharu sekali oleh konferensi in...  \n",
       "2  <start> dan saya katakan itu dari dalam hati s...  \n",
       "3  <start> tepuk tangan biar saya ceritakan sebua...  \n",
       "4  <start> ini adalah cerita yang benar benar ter...  "
      ]
     },
     "execution_count": 5,
     "metadata": {},
     "output_type": "execute_result"
    }
   ],
   "source": [
    "df.head()"
   ]
  },
  {
   "cell_type": "code",
   "execution_count": 6,
   "id": "fb7e0948",
   "metadata": {
    "execution": {
     "iopub.execute_input": "2021-11-16T14:39:42.974579Z",
     "iopub.status.busy": "2021-11-16T14:39:42.973812Z",
     "iopub.status.idle": "2021-11-16T14:39:43.068857Z",
     "shell.execute_reply": "2021-11-16T14:39:43.068363Z",
     "shell.execute_reply.started": "2021-11-16T14:16:21.292168Z"
    },
    "papermill": {
     "duration": 0.13361,
     "end_time": "2021-11-16T14:39:43.068985",
     "exception": false,
     "start_time": "2021-11-16T14:39:42.935375",
     "status": "completed"
    },
    "tags": []
   },
   "outputs": [],
   "source": [
    "### Get English and Indonesia Vocabulary\n",
    "all_eng_words=set()\n",
    "for eng in df['english']:\n",
    "    for word in eng.split():\n",
    "        if word not in all_eng_words:\n",
    "            all_eng_words.add(word)\n",
    "\n",
    "all_ind_words=set()\n",
    "for ind in df['indonesia']:\n",
    "    for word in ind.split():\n",
    "        if word not in all_ind_words:\n",
    "            all_ind_words.add(word)"
   ]
  },
  {
   "cell_type": "code",
   "execution_count": 7,
   "id": "715f96e9",
   "metadata": {
    "execution": {
     "iopub.execute_input": "2021-11-16T14:39:43.137290Z",
     "iopub.status.busy": "2021-11-16T14:39:43.136667Z",
     "iopub.status.idle": "2021-11-16T14:39:43.139271Z",
     "shell.execute_reply": "2021-11-16T14:39:43.139674Z",
     "shell.execute_reply.started": "2021-11-16T14:16:21.415757Z"
    },
    "papermill": {
     "duration": 0.039097,
     "end_time": "2021-11-16T14:39:43.139802",
     "exception": false,
     "start_time": "2021-11-16T14:39:43.100705",
     "status": "completed"
    },
    "tags": []
   },
   "outputs": [
    {
     "data": {
      "text/plain": [
       "12989"
      ]
     },
     "execution_count": 7,
     "metadata": {},
     "output_type": "execute_result"
    }
   ],
   "source": [
    "len(all_eng_words)"
   ]
  },
  {
   "cell_type": "code",
   "execution_count": 8,
   "id": "041624a1",
   "metadata": {
    "execution": {
     "iopub.execute_input": "2021-11-16T14:39:43.207735Z",
     "iopub.status.busy": "2021-11-16T14:39:43.207090Z",
     "iopub.status.idle": "2021-11-16T14:39:43.209583Z",
     "shell.execute_reply": "2021-11-16T14:39:43.210072Z",
     "shell.execute_reply.started": "2021-11-16T14:16:21.427492Z"
    },
    "papermill": {
     "duration": 0.038534,
     "end_time": "2021-11-16T14:39:43.210291",
     "exception": false,
     "start_time": "2021-11-16T14:39:43.171757",
     "status": "completed"
    },
    "tags": []
   },
   "outputs": [
    {
     "data": {
      "text/plain": [
       "12255"
      ]
     },
     "execution_count": 8,
     "metadata": {},
     "output_type": "execute_result"
    }
   ],
   "source": [
    "len(all_ind_words)"
   ]
  },
  {
   "cell_type": "code",
   "execution_count": 9,
   "id": "72e9b3e4",
   "metadata": {
    "execution": {
     "iopub.execute_input": "2021-11-16T14:39:43.318361Z",
     "iopub.status.busy": "2021-11-16T14:39:43.317627Z",
     "iopub.status.idle": "2021-11-16T14:39:43.319870Z",
     "shell.execute_reply": "2021-11-16T14:39:43.320269Z",
     "shell.execute_reply.started": "2021-11-16T14:16:21.439719Z"
    },
    "papermill": {
     "duration": 0.078698,
     "end_time": "2021-11-16T14:39:43.320426",
     "exception": false,
     "start_time": "2021-11-16T14:39:43.241728",
     "status": "completed"
    },
    "tags": []
   },
   "outputs": [],
   "source": [
    "df['length_eng_sentence']=df['english'].apply(lambda x:len(x.split(\" \")))\n",
    "df['length_ind_sentence']=df['indonesia'].apply(lambda x:len(x.split(\" \")))"
   ]
  },
  {
   "cell_type": "code",
   "execution_count": 10,
   "id": "a0b9e54d",
   "metadata": {
    "execution": {
     "iopub.execute_input": "2021-11-16T14:39:43.401030Z",
     "iopub.status.busy": "2021-11-16T14:39:43.398853Z",
     "iopub.status.idle": "2021-11-16T14:39:43.405530Z",
     "shell.execute_reply": "2021-11-16T14:39:43.405914Z",
     "shell.execute_reply.started": "2021-11-16T14:16:21.495379Z"
    },
    "papermill": {
     "duration": 0.053507,
     "end_time": "2021-11-16T14:39:43.406064",
     "exception": false,
     "start_time": "2021-11-16T14:39:43.352557",
     "status": "completed"
    },
    "tags": []
   },
   "outputs": [
    {
     "data": {
      "text/html": [
       "<div>\n",
       "<style scoped>\n",
       "    .dataframe tbody tr th:only-of-type {\n",
       "        vertical-align: middle;\n",
       "    }\n",
       "\n",
       "    .dataframe tbody tr th {\n",
       "        vertical-align: top;\n",
       "    }\n",
       "\n",
       "    .dataframe thead th {\n",
       "        text-align: right;\n",
       "    }\n",
       "</style>\n",
       "<table border=\"1\" class=\"dataframe\">\n",
       "  <thead>\n",
       "    <tr style=\"text-align: right;\">\n",
       "      <th></th>\n",
       "      <th>english</th>\n",
       "      <th>indonesia</th>\n",
       "      <th>length_eng_sentence</th>\n",
       "      <th>length_ind_sentence</th>\n",
       "    </tr>\n",
       "  </thead>\n",
       "  <tbody>\n",
       "    <tr>\n",
       "      <th>0</th>\n",
       "      <td>thank you so much , chris . and it s truly a g...</td>\n",
       "      <td>&lt;start&gt; terima kasih banyak , chris . dan adal...</td>\n",
       "      <td>29</td>\n",
       "      <td>32</td>\n",
       "    </tr>\n",
       "    <tr>\n",
       "      <th>1</th>\n",
       "      <td>i have been blown away by this conference , an...</td>\n",
       "      <td>&lt;start&gt; saya terharu sekali oleh konferensi in...</td>\n",
       "      <td>32</td>\n",
       "      <td>29</td>\n",
       "    </tr>\n",
       "    <tr>\n",
       "      <th>2</th>\n",
       "      <td>and i say that sincerely , partly because mock...</td>\n",
       "      <td>&lt;start&gt; dan saya katakan itu dari dalam hati s...</td>\n",
       "      <td>46</td>\n",
       "      <td>46</td>\n",
       "    </tr>\n",
       "    <tr>\n",
       "      <th>3</th>\n",
       "      <td>i ll tell you one quick story to illustrate wh...</td>\n",
       "      <td>&lt;start&gt; tepuk tangan biar saya ceritakan sebua...</td>\n",
       "      <td>17</td>\n",
       "      <td>19</td>\n",
       "    </tr>\n",
       "    <tr>\n",
       "      <th>4</th>\n",
       "      <td>it s a true story every bit of this is true .</td>\n",
       "      <td>&lt;start&gt; ini adalah cerita yang benar benar ter...</td>\n",
       "      <td>12</td>\n",
       "      <td>15</td>\n",
       "    </tr>\n",
       "  </tbody>\n",
       "</table>\n",
       "</div>"
      ],
      "text/plain": [
       "                                             english  \\\n",
       "0  thank you so much , chris . and it s truly a g...   \n",
       "1  i have been blown away by this conference , an...   \n",
       "2  and i say that sincerely , partly because mock...   \n",
       "3  i ll tell you one quick story to illustrate wh...   \n",
       "4      it s a true story every bit of this is true .   \n",
       "\n",
       "                                           indonesia  length_eng_sentence  \\\n",
       "0  <start> terima kasih banyak , chris . dan adal...                   29   \n",
       "1  <start> saya terharu sekali oleh konferensi in...                   32   \n",
       "2  <start> dan saya katakan itu dari dalam hati s...                   46   \n",
       "3  <start> tepuk tangan biar saya ceritakan sebua...                   17   \n",
       "4  <start> ini adalah cerita yang benar benar ter...                   12   \n",
       "\n",
       "   length_ind_sentence  \n",
       "0                   32  \n",
       "1                   29  \n",
       "2                   46  \n",
       "3                   19  \n",
       "4                   15  "
      ]
     },
     "execution_count": 10,
     "metadata": {},
     "output_type": "execute_result"
    }
   ],
   "source": [
    "df.head()"
   ]
  },
  {
   "cell_type": "code",
   "execution_count": 11,
   "id": "485024db",
   "metadata": {
    "execution": {
     "iopub.execute_input": "2021-11-16T14:39:43.479733Z",
     "iopub.status.busy": "2021-11-16T14:39:43.479133Z",
     "iopub.status.idle": "2021-11-16T14:39:43.481829Z",
     "shell.execute_reply": "2021-11-16T14:39:43.482528Z",
     "shell.execute_reply.started": "2021-11-16T14:16:21.512292Z"
    },
    "papermill": {
     "duration": 0.044363,
     "end_time": "2021-11-16T14:39:43.482701",
     "exception": false,
     "start_time": "2021-11-16T14:39:43.438338",
     "status": "completed"
    },
    "tags": []
   },
   "outputs": [
    {
     "name": "stdout",
     "output_type": "stream",
     "text": [
      "maximum length of Indonesia Sentence  88\n",
      "maximum length of English Sentence  85\n"
     ]
    }
   ],
   "source": [
    "print(\"maximum length of Indonesia Sentence \",max(df['length_ind_sentence']))\n",
    "print(\"maximum length of English Sentence \",max(df['length_eng_sentence']))"
   ]
  },
  {
   "cell_type": "code",
   "execution_count": 12,
   "id": "7468cf41",
   "metadata": {
    "execution": {
     "iopub.execute_input": "2021-11-16T14:39:43.555370Z",
     "iopub.status.busy": "2021-11-16T14:39:43.554579Z",
     "iopub.status.idle": "2021-11-16T14:39:43.556533Z",
     "shell.execute_reply": "2021-11-16T14:39:43.556937Z",
     "shell.execute_reply.started": "2021-11-16T14:16:21.526758Z"
    },
    "papermill": {
     "duration": 0.04107,
     "end_time": "2021-11-16T14:39:43.557064",
     "exception": false,
     "start_time": "2021-11-16T14:39:43.515994",
     "status": "completed"
    },
    "tags": []
   },
   "outputs": [],
   "source": [
    "max_length_src=max(df['length_eng_sentence'])\n",
    "max_length_tar=max(df['length_ind_sentence'])"
   ]
  },
  {
   "cell_type": "code",
   "execution_count": 13,
   "id": "026d2ce3",
   "metadata": {
    "execution": {
     "iopub.execute_input": "2021-11-16T14:39:43.636759Z",
     "iopub.status.busy": "2021-11-16T14:39:43.624132Z",
     "iopub.status.idle": "2021-11-16T14:39:43.639990Z",
     "shell.execute_reply": "2021-11-16T14:39:43.639555Z",
     "shell.execute_reply.started": "2021-11-16T14:16:21.54137Z"
    },
    "papermill": {
     "duration": 0.050971,
     "end_time": "2021-11-16T14:39:43.640097",
     "exception": false,
     "start_time": "2021-11-16T14:39:43.589126",
     "status": "completed"
    },
    "tags": []
   },
   "outputs": [
    {
     "data": {
      "text/plain": [
       "(12989, 12255)"
      ]
     },
     "execution_count": 13,
     "metadata": {},
     "output_type": "execute_result"
    }
   ],
   "source": [
    "input_words = sorted(list(all_eng_words))\n",
    "target_words = sorted(list(all_ind_words))\n",
    "num_encoder_tokens = len(all_eng_words)\n",
    "num_decoder_tokens = len(all_ind_words)\n",
    "num_encoder_tokens, num_decoder_tokens"
   ]
  },
  {
   "cell_type": "code",
   "execution_count": 14,
   "id": "5bc3c7cb",
   "metadata": {
    "execution": {
     "iopub.execute_input": "2021-11-16T14:39:43.709790Z",
     "iopub.status.busy": "2021-11-16T14:39:43.708967Z",
     "iopub.status.idle": "2021-11-16T14:39:43.710935Z",
     "shell.execute_reply": "2021-11-16T14:39:43.711463Z",
     "shell.execute_reply.started": "2021-11-16T14:16:21.573945Z"
    },
    "papermill": {
     "duration": 0.038798,
     "end_time": "2021-11-16T14:39:43.711622",
     "exception": false,
     "start_time": "2021-11-16T14:39:43.672824",
     "status": "completed"
    },
    "tags": []
   },
   "outputs": [],
   "source": [
    "num_decoder_tokens += 1 #for zero padding"
   ]
  },
  {
   "cell_type": "code",
   "execution_count": 15,
   "id": "a82dbdfe",
   "metadata": {
    "execution": {
     "iopub.execute_input": "2021-11-16T14:39:43.792748Z",
     "iopub.status.busy": "2021-11-16T14:39:43.791991Z",
     "iopub.status.idle": "2021-11-16T14:39:43.794467Z",
     "shell.execute_reply": "2021-11-16T14:39:43.794015Z",
     "shell.execute_reply.started": "2021-11-16T14:16:21.58115Z"
    },
    "papermill": {
     "duration": 0.050528,
     "end_time": "2021-11-16T14:39:43.794586",
     "exception": false,
     "start_time": "2021-11-16T14:39:43.744058",
     "status": "completed"
    },
    "tags": []
   },
   "outputs": [],
   "source": [
    "input_token_index = dict([(word, i+1) for i, word in enumerate(input_words)])\n",
    "target_token_index = dict([(word, i+1) for i, word in enumerate(target_words)])"
   ]
  },
  {
   "cell_type": "code",
   "execution_count": 16,
   "id": "398e30c2",
   "metadata": {
    "execution": {
     "iopub.execute_input": "2021-11-16T14:39:43.867911Z",
     "iopub.status.busy": "2021-11-16T14:39:43.866800Z",
     "iopub.status.idle": "2021-11-16T14:39:43.871960Z",
     "shell.execute_reply": "2021-11-16T14:39:43.872375Z",
     "shell.execute_reply.started": "2021-11-16T14:16:21.603233Z"
    },
    "papermill": {
     "duration": 0.045648,
     "end_time": "2021-11-16T14:39:43.872514",
     "exception": false,
     "start_time": "2021-11-16T14:39:43.826866",
     "status": "completed"
    },
    "tags": []
   },
   "outputs": [],
   "source": [
    "reverse_input_char_index = dict((i, word) for word, i in input_token_index.items())\n",
    "reverse_target_char_index = dict((i, word) for word, i in target_token_index.items())"
   ]
  },
  {
   "cell_type": "markdown",
   "id": "c56293db",
   "metadata": {
    "papermill": {
     "duration": 0.03209,
     "end_time": "2021-11-16T14:39:43.936792",
     "exception": false,
     "start_time": "2021-11-16T14:39:43.904702",
     "status": "completed"
    },
    "tags": []
   },
   "source": [
    "### Split the data into train and test"
   ]
  },
  {
   "cell_type": "code",
   "execution_count": 17,
   "id": "f00e9d92",
   "metadata": {
    "execution": {
     "iopub.execute_input": "2021-11-16T14:39:44.007191Z",
     "iopub.status.busy": "2021-11-16T14:39:44.006574Z",
     "iopub.status.idle": "2021-11-16T14:39:44.015815Z",
     "shell.execute_reply": "2021-11-16T14:39:44.015372Z",
     "shell.execute_reply.started": "2021-11-16T14:16:21.62077Z"
    },
    "papermill": {
     "duration": 0.046001,
     "end_time": "2021-11-16T14:39:44.015924",
     "exception": false,
     "start_time": "2021-11-16T14:39:43.969923",
     "status": "completed"
    },
    "tags": []
   },
   "outputs": [
    {
     "data": {
      "text/plain": [
       "((9600,), (2400,))"
      ]
     },
     "execution_count": 17,
     "metadata": {},
     "output_type": "execute_result"
    }
   ],
   "source": [
    "X, y = df['english'], df['indonesia']\n",
    "X_train, X_test, y_train, y_test = train_test_split(X, y, test_size = 0.2,random_state=42)\n",
    "X_train.shape, X_test.shape"
   ]
  },
  {
   "cell_type": "markdown",
   "id": "71435d10",
   "metadata": {
    "papermill": {
     "duration": 0.032645,
     "end_time": "2021-11-16T14:39:44.081507",
     "exception": false,
     "start_time": "2021-11-16T14:39:44.048862",
     "status": "completed"
    },
    "tags": []
   },
   "source": [
    "Save the data for other model"
   ]
  },
  {
   "cell_type": "code",
   "execution_count": 18,
   "id": "0defc9f3",
   "metadata": {
    "execution": {
     "iopub.execute_input": "2021-11-16T14:39:44.200987Z",
     "iopub.status.busy": "2021-11-16T14:39:44.200164Z",
     "iopub.status.idle": "2021-11-16T14:39:44.212671Z",
     "shell.execute_reply": "2021-11-16T14:39:44.212182Z",
     "shell.execute_reply.started": "2021-11-16T14:16:21.64142Z"
    },
    "papermill": {
     "duration": 0.098498,
     "end_time": "2021-11-16T14:39:44.212784",
     "exception": false,
     "start_time": "2021-11-16T14:39:44.114286",
     "status": "completed"
    },
    "tags": []
   },
   "outputs": [],
   "source": [
    "X_train.to_pickle('X_train.pkl')\n",
    "X_test.to_pickle('X_test.pkl')\n",
    "y_train.to_pickle('y_train.pkl')\n",
    "y_test.to_pickle('y_test.pkl')"
   ]
  },
  {
   "cell_type": "code",
   "execution_count": 19,
   "id": "54a6e882",
   "metadata": {
    "execution": {
     "iopub.execute_input": "2021-11-16T14:39:44.288800Z",
     "iopub.status.busy": "2021-11-16T14:39:44.287960Z",
     "iopub.status.idle": "2021-11-16T14:39:44.290327Z",
     "shell.execute_reply": "2021-11-16T14:39:44.290857Z",
     "shell.execute_reply.started": "2021-11-16T14:16:21.664298Z"
    },
    "papermill": {
     "duration": 0.04458,
     "end_time": "2021-11-16T14:39:44.291014",
     "exception": false,
     "start_time": "2021-11-16T14:39:44.246434",
     "status": "completed"
    },
    "tags": []
   },
   "outputs": [],
   "source": [
    "def generate_batch(X = X_train, y = y_train, batch_size = 128):\n",
    "    ''' Generate a batch of data '''\n",
    "    while True:\n",
    "        for j in range(0, len(X), batch_size):\n",
    "            encoder_input_data = np.zeros((batch_size, max_length_src),dtype='float32')\n",
    "            decoder_input_data = np.zeros((batch_size, max_length_tar),dtype='float32')\n",
    "            decoder_target_data = np.zeros((batch_size, max_length_tar, num_decoder_tokens),dtype='float32')\n",
    "            for i, (input_text, target_text) in enumerate(zip(X[j:j+batch_size], y[j:j+batch_size])):\n",
    "                for t, word in enumerate(input_text.split()):\n",
    "                    encoder_input_data[i, t] = input_token_index[word] # encoder input seq\n",
    "                for t, word in enumerate(target_text.split()):\n",
    "                    if t<len(target_text.split())-1:\n",
    "                        decoder_input_data[i, t] = target_token_index[word] # decoder input seq\n",
    "                    if t>0:\n",
    "                        # decoder target sequence (one hot encoded)\n",
    "                        # does not include the START_ token\n",
    "                        # Offset by one timestep\n",
    "                        decoder_target_data[i, t - 1, target_token_index[word]] = 1.\n",
    "            yield([encoder_input_data, decoder_input_data], decoder_target_data)"
   ]
  },
  {
   "cell_type": "markdown",
   "id": "2a21cdc7",
   "metadata": {
    "papermill": {
     "duration": 0.032757,
     "end_time": "2021-11-16T14:39:44.356841",
     "exception": false,
     "start_time": "2021-11-16T14:39:44.324084",
     "status": "completed"
    },
    "tags": []
   },
   "source": [
    "### Encoder-Decoder Architecture"
   ]
  },
  {
   "cell_type": "code",
   "execution_count": 20,
   "id": "a83fdac8",
   "metadata": {
    "execution": {
     "iopub.execute_input": "2021-11-16T14:39:44.427326Z",
     "iopub.status.busy": "2021-11-16T14:39:44.426492Z",
     "iopub.status.idle": "2021-11-16T14:39:44.428359Z",
     "shell.execute_reply": "2021-11-16T14:39:44.428818Z",
     "shell.execute_reply.started": "2021-11-16T14:16:21.678148Z"
    },
    "papermill": {
     "duration": 0.039201,
     "end_time": "2021-11-16T14:39:44.428947",
     "exception": false,
     "start_time": "2021-11-16T14:39:44.389746",
     "status": "completed"
    },
    "tags": []
   },
   "outputs": [],
   "source": [
    "latent_dim=300"
   ]
  },
  {
   "cell_type": "code",
   "execution_count": 21,
   "id": "ce444f91",
   "metadata": {
    "execution": {
     "iopub.execute_input": "2021-11-16T14:39:44.500277Z",
     "iopub.status.busy": "2021-11-16T14:39:44.499565Z",
     "iopub.status.idle": "2021-11-16T14:39:47.463600Z",
     "shell.execute_reply": "2021-11-16T14:39:47.462673Z",
     "shell.execute_reply.started": "2021-11-16T14:16:37.939772Z"
    },
    "papermill": {
     "duration": 3.001877,
     "end_time": "2021-11-16T14:39:47.463750",
     "exception": false,
     "start_time": "2021-11-16T14:39:44.461873",
     "status": "completed"
    },
    "tags": []
   },
   "outputs": [
    {
     "name": "stderr",
     "output_type": "stream",
     "text": [
      "2021-11-16 14:39:44.578308: I tensorflow/stream_executor/cuda/cuda_gpu_executor.cc:937] successful NUMA node read from SysFS had negative value (-1), but there must be at least one NUMA node, so returning NUMA node zero\n",
      "2021-11-16 14:39:44.681467: I tensorflow/stream_executor/cuda/cuda_gpu_executor.cc:937] successful NUMA node read from SysFS had negative value (-1), but there must be at least one NUMA node, so returning NUMA node zero\n",
      "2021-11-16 14:39:44.682192: I tensorflow/stream_executor/cuda/cuda_gpu_executor.cc:937] successful NUMA node read from SysFS had negative value (-1), but there must be at least one NUMA node, so returning NUMA node zero\n",
      "2021-11-16 14:39:44.683366: I tensorflow/core/platform/cpu_feature_guard.cc:142] This TensorFlow binary is optimized with oneAPI Deep Neural Network Library (oneDNN) to use the following CPU instructions in performance-critical operations:  AVX2 AVX512F FMA\n",
      "To enable them in other operations, rebuild TensorFlow with the appropriate compiler flags.\n",
      "2021-11-16 14:39:44.684671: I tensorflow/stream_executor/cuda/cuda_gpu_executor.cc:937] successful NUMA node read from SysFS had negative value (-1), but there must be at least one NUMA node, so returning NUMA node zero\n",
      "2021-11-16 14:39:44.685371: I tensorflow/stream_executor/cuda/cuda_gpu_executor.cc:937] successful NUMA node read from SysFS had negative value (-1), but there must be at least one NUMA node, so returning NUMA node zero\n",
      "2021-11-16 14:39:44.685994: I tensorflow/stream_executor/cuda/cuda_gpu_executor.cc:937] successful NUMA node read from SysFS had negative value (-1), but there must be at least one NUMA node, so returning NUMA node zero\n",
      "2021-11-16 14:39:46.405482: I tensorflow/stream_executor/cuda/cuda_gpu_executor.cc:937] successful NUMA node read from SysFS had negative value (-1), but there must be at least one NUMA node, so returning NUMA node zero\n",
      "2021-11-16 14:39:46.406290: I tensorflow/stream_executor/cuda/cuda_gpu_executor.cc:937] successful NUMA node read from SysFS had negative value (-1), but there must be at least one NUMA node, so returning NUMA node zero\n",
      "2021-11-16 14:39:46.406925: I tensorflow/stream_executor/cuda/cuda_gpu_executor.cc:937] successful NUMA node read from SysFS had negative value (-1), but there must be at least one NUMA node, so returning NUMA node zero\n",
      "2021-11-16 14:39:46.407504: I tensorflow/core/common_runtime/gpu/gpu_device.cc:1510] Created device /job:localhost/replica:0/task:0/device:GPU:0 with 15403 MB memory:  -> device: 0, name: Tesla P100-PCIE-16GB, pci bus id: 0000:00:04.0, compute capability: 6.0\n"
     ]
    }
   ],
   "source": [
    "# Encoder\n",
    "encoder_inputs = Input(shape=(None,))\n",
    "enc_emb =  Embedding(num_encoder_tokens, latent_dim, mask_zero = True)(encoder_inputs)\n",
    "encoder_gru = GRU(latent_dim, return_state=True)\n",
    "encoder_outputs, state_h = encoder_gru(enc_emb)\n",
    "# We discard `encoder_outputs` and only keep the states.\n",
    "encoder_states = [state_h]"
   ]
  },
  {
   "cell_type": "code",
   "execution_count": 22,
   "id": "52d964e4",
   "metadata": {
    "execution": {
     "iopub.execute_input": "2021-11-16T14:39:47.540243Z",
     "iopub.status.busy": "2021-11-16T14:39:47.538144Z",
     "iopub.status.idle": "2021-11-16T14:39:48.256123Z",
     "shell.execute_reply": "2021-11-16T14:39:48.255203Z",
     "shell.execute_reply.started": "2021-11-16T14:17:03.78364Z"
    },
    "papermill": {
     "duration": 0.758519,
     "end_time": "2021-11-16T14:39:48.256386",
     "exception": false,
     "start_time": "2021-11-16T14:39:47.497867",
     "status": "completed"
    },
    "tags": []
   },
   "outputs": [],
   "source": [
    "# Set up the decoder, using `encoder_states` as initial state.\n",
    "decoder_inputs = Input(shape=(None,))\n",
    "dec_emb_layer = Embedding(num_decoder_tokens, latent_dim, mask_zero = True)\n",
    "dec_emb = dec_emb_layer(decoder_inputs)\n",
    "# We set up our decoder to return full output sequences,\n",
    "# and to return internal states as well. We don't use the\n",
    "# return states in the training model, but we will use them in inference.\n",
    "decoder_gru = GRU(latent_dim, return_sequences=True, return_state=True)\n",
    "decoder_outputs, _ = decoder_gru(dec_emb,\n",
    "                                 initial_state=encoder_states)\n",
    "decoder_dense = Dense(num_decoder_tokens, activation='softmax')\n",
    "decoder_outputs = decoder_dense(decoder_outputs)\n",
    "\n",
    "# Define the model that will turn\n",
    "# `encoder_input_data` & `decoder_input_data` into `decoder_target_data`\n",
    "model = Model([encoder_inputs, decoder_inputs], decoder_outputs)"
   ]
  },
  {
   "cell_type": "code",
   "execution_count": 23,
   "id": "0d66f93b",
   "metadata": {
    "execution": {
     "iopub.execute_input": "2021-11-16T14:39:48.338938Z",
     "iopub.status.busy": "2021-11-16T14:39:48.338145Z",
     "iopub.status.idle": "2021-11-16T14:39:48.345393Z",
     "shell.execute_reply": "2021-11-16T14:39:48.344935Z",
     "shell.execute_reply.started": "2021-11-16T14:17:07.512909Z"
    },
    "papermill": {
     "duration": 0.048627,
     "end_time": "2021-11-16T14:39:48.345519",
     "exception": false,
     "start_time": "2021-11-16T14:39:48.296892",
     "status": "completed"
    },
    "tags": []
   },
   "outputs": [],
   "source": [
    "model.compile(optimizer='rmsprop', loss='categorical_crossentropy')"
   ]
  },
  {
   "cell_type": "code",
   "execution_count": 24,
   "id": "0a131e82",
   "metadata": {
    "execution": {
     "iopub.execute_input": "2021-11-16T14:39:48.416048Z",
     "iopub.status.busy": "2021-11-16T14:39:48.415179Z",
     "iopub.status.idle": "2021-11-16T14:39:48.424302Z",
     "shell.execute_reply": "2021-11-16T14:39:48.424888Z",
     "shell.execute_reply.started": "2021-11-16T14:17:09.635012Z"
    },
    "papermill": {
     "duration": 0.046309,
     "end_time": "2021-11-16T14:39:48.425108",
     "exception": false,
     "start_time": "2021-11-16T14:39:48.378799",
     "status": "completed"
    },
    "tags": []
   },
   "outputs": [
    {
     "name": "stdout",
     "output_type": "stream",
     "text": [
      "Model: \"model\"\n",
      "__________________________________________________________________________________________________\n",
      "Layer (type)                    Output Shape         Param #     Connected to                     \n",
      "==================================================================================================\n",
      "input_1 (InputLayer)            [(None, None)]       0                                            \n",
      "__________________________________________________________________________________________________\n",
      "input_2 (InputLayer)            [(None, None)]       0                                            \n",
      "__________________________________________________________________________________________________\n",
      "embedding (Embedding)           (None, None, 300)    3896700     input_1[0][0]                    \n",
      "__________________________________________________________________________________________________\n",
      "embedding_1 (Embedding)         (None, None, 300)    3676800     input_2[0][0]                    \n",
      "__________________________________________________________________________________________________\n",
      "gru (GRU)                       [(None, 300), (None, 541800      embedding[0][0]                  \n",
      "__________________________________________________________________________________________________\n",
      "gru_1 (GRU)                     [(None, None, 300),  541800      embedding_1[0][0]                \n",
      "                                                                 gru[0][1]                        \n",
      "__________________________________________________________________________________________________\n",
      "dense (Dense)                   (None, None, 12256)  3689056     gru_1[0][0]                      \n",
      "==================================================================================================\n",
      "Total params: 12,346,156\n",
      "Trainable params: 12,346,156\n",
      "Non-trainable params: 0\n",
      "__________________________________________________________________________________________________\n"
     ]
    }
   ],
   "source": [
    "model.summary()"
   ]
  },
  {
   "cell_type": "code",
   "execution_count": 25,
   "id": "3ccfd86e",
   "metadata": {
    "execution": {
     "iopub.execute_input": "2021-11-16T14:39:48.498185Z",
     "iopub.status.busy": "2021-11-16T14:39:48.497342Z",
     "iopub.status.idle": "2021-11-16T14:39:48.499186Z",
     "shell.execute_reply": "2021-11-16T14:39:48.499644Z",
     "shell.execute_reply.started": "2021-11-16T14:17:16.454386Z"
    },
    "papermill": {
     "duration": 0.039648,
     "end_time": "2021-11-16T14:39:48.499780",
     "exception": false,
     "start_time": "2021-11-16T14:39:48.460132",
     "status": "completed"
    },
    "tags": []
   },
   "outputs": [],
   "source": [
    "train_samples = len(X_train)\n",
    "val_samples = len(X_test)\n",
    "batch_size = 128\n",
    "epochs = 20 # Change"
   ]
  },
  {
   "cell_type": "code",
   "execution_count": 26,
   "id": "eab49820",
   "metadata": {
    "execution": {
     "iopub.execute_input": "2021-11-16T14:39:48.572452Z",
     "iopub.status.busy": "2021-11-16T14:39:48.571672Z",
     "iopub.status.idle": "2021-11-16T15:06:16.987545Z",
     "shell.execute_reply": "2021-11-16T15:06:16.987016Z",
     "shell.execute_reply.started": "2021-11-16T14:17:19.412098Z"
    },
    "papermill": {
     "duration": 1588.454375,
     "end_time": "2021-11-16T15:06:16.987695",
     "exception": false,
     "start_time": "2021-11-16T14:39:48.533320",
     "status": "completed"
    },
    "tags": []
   },
   "outputs": [
    {
     "name": "stderr",
     "output_type": "stream",
     "text": [
      "/opt/conda/lib/python3.7/site-packages/keras/engine/training.py:1972: UserWarning: `Model.fit_generator` is deprecated and will be removed in a future version. Please use `Model.fit`, which supports generators.\n",
      "  warnings.warn('`Model.fit_generator` is deprecated and '\n",
      "2021-11-16 14:39:49.507390: I tensorflow/compiler/mlir/mlir_graph_optimization_pass.cc:185] None of the MLIR Optimization Passes are enabled (registered 2)\n"
     ]
    },
    {
     "name": "stdout",
     "output_type": "stream",
     "text": [
      "Epoch 1/20\n"
     ]
    },
    {
     "name": "stderr",
     "output_type": "stream",
     "text": [
      "2021-11-16 14:39:57.101070: I tensorflow/stream_executor/cuda/cuda_dnn.cc:369] Loaded cuDNN version 8005\n"
     ]
    },
    {
     "name": "stdout",
     "output_type": "stream",
     "text": [
      "75/75 [==============================] - 89s 1s/step - loss: 1.3618 - val_loss: 1.2869\n",
      "Epoch 2/20\n",
      "75/75 [==============================] - 78s 1s/step - loss: 1.2296 - val_loss: 1.2454\n",
      "Epoch 3/20\n",
      "75/75 [==============================] - 78s 1s/step - loss: 1.1758 - val_loss: 1.2087\n",
      "Epoch 4/20\n",
      "75/75 [==============================] - 78s 1s/step - loss: 1.1342 - val_loss: 1.1848\n",
      "Epoch 5/20\n",
      "75/75 [==============================] - 78s 1s/step - loss: 1.0999 - val_loss: 1.1714\n",
      "Epoch 6/20\n",
      "75/75 [==============================] - 78s 1s/step - loss: 1.0702 - val_loss: 1.1547\n",
      "Epoch 7/20\n",
      "75/75 [==============================] - 78s 1s/step - loss: 1.0424 - val_loss: 1.1500\n",
      "Epoch 8/20\n",
      "75/75 [==============================] - 78s 1s/step - loss: 1.0161 - val_loss: 1.1414\n",
      "Epoch 9/20\n",
      "75/75 [==============================] - 78s 1s/step - loss: 0.9923 - val_loss: 1.1368\n",
      "Epoch 10/20\n",
      "75/75 [==============================] - 78s 1s/step - loss: 0.9689 - val_loss: 1.1263\n",
      "Epoch 11/20\n",
      "75/75 [==============================] - 78s 1s/step - loss: 0.9468 - val_loss: 1.1239\n",
      "Epoch 12/20\n",
      "75/75 [==============================] - 78s 1s/step - loss: 0.9253 - val_loss: 1.1233\n",
      "Epoch 13/20\n",
      "75/75 [==============================] - 78s 1s/step - loss: 0.9042 - val_loss: 1.1211\n",
      "Epoch 14/20\n",
      "75/75 [==============================] - 78s 1s/step - loss: 0.8836 - val_loss: 1.1234\n",
      "Epoch 15/20\n",
      "75/75 [==============================] - 78s 1s/step - loss: 0.8638 - val_loss: 1.1200\n",
      "Epoch 16/20\n",
      "75/75 [==============================] - 78s 1s/step - loss: 0.8439 - val_loss: 1.1246\n",
      "Epoch 17/20\n",
      "75/75 [==============================] - 79s 1s/step - loss: 0.8243 - val_loss: 1.1239\n",
      "Epoch 18/20\n",
      "75/75 [==============================] - 79s 1s/step - loss: 0.8049 - val_loss: 1.1273\n",
      "Epoch 19/20\n",
      "75/75 [==============================] - 78s 1s/step - loss: 0.7861 - val_loss: 1.1291\n",
      "Epoch 20/20\n",
      "75/75 [==============================] - 79s 1s/step - loss: 0.7672 - val_loss: 1.1325\n"
     ]
    }
   ],
   "source": [
    "H = model.fit_generator(generator = generate_batch(X_train, y_train, batch_size = batch_size),\n",
    "                        steps_per_epoch = train_samples//batch_size,\n",
    "                        epochs=epochs,\n",
    "                        validation_data = generate_batch(X_test, y_test, batch_size = batch_size),\n",
    "                        validation_steps = val_samples//batch_size)"
   ]
  },
  {
   "cell_type": "code",
   "execution_count": 27,
   "id": "8c6d8e60",
   "metadata": {
    "execution": {
     "iopub.execute_input": "2021-11-16T15:06:17.877946Z",
     "iopub.status.busy": "2021-11-16T15:06:17.874140Z",
     "iopub.status.idle": "2021-11-16T15:06:18.158933Z",
     "shell.execute_reply": "2021-11-16T15:06:18.159365Z",
     "shell.execute_reply.started": "2021-11-16T14:18:50.601425Z"
    },
    "papermill": {
     "duration": 0.729529,
     "end_time": "2021-11-16T15:06:18.159524",
     "exception": false,
     "start_time": "2021-11-16T15:06:17.429995",
     "status": "completed"
    },
    "tags": []
   },
   "outputs": [
    {
     "data": {
      "image/png": "[encoded data removed]",
      "text/plain": [
       "<Figure size 432x288 with 1 Axes>"
      ]
     },
     "metadata": {},
     "output_type": "display_data"
    }
   ],
   "source": [
    "N = epochs\n",
    "plt.style.use(\"ggplot\")\n",
    "plt.figure()\n",
    "plt.plot(np.arange(0, N), H.history[\"loss\"], label=\"train_loss\")\n",
    "plt.plot(np.arange(0, N), H.history[\"val_loss\"], label=\"val_loss\")\n",
    "plt.title(\"Training Loss and Accuracy on Dataset\")\n",
    "plt.xlabel(\"Epoch #\")\n",
    "plt.ylabel(\"Loss/Accuracy\")\n",
    "plt.legend(loc=\"lower left\")\n",
    "plt.savefig(\"plot_encoder_decoder_gru.png\")"
   ]
  },
  {
   "cell_type": "code",
   "execution_count": 28,
   "id": "007b415f",
   "metadata": {
    "execution": {
     "iopub.execute_input": "2021-11-16T15:06:19.022503Z",
     "iopub.status.busy": "2021-11-16T15:06:19.021393Z",
     "iopub.status.idle": "2021-11-16T15:06:19.124164Z",
     "shell.execute_reply": "2021-11-16T15:06:19.124681Z",
     "shell.execute_reply.started": "2021-11-16T14:18:50.939236Z"
    },
    "papermill": {
     "duration": 0.538117,
     "end_time": "2021-11-16T15:06:19.124843",
     "exception": false,
     "start_time": "2021-11-16T15:06:18.586726",
     "status": "completed"
    },
    "tags": []
   },
   "outputs": [],
   "source": [
    "model.save_weights('nmt_weights_gru.h5')"
   ]
  },
  {
   "cell_type": "code",
   "execution_count": 29,
   "id": "31d4f631",
   "metadata": {
    "execution": {
     "iopub.execute_input": "2021-11-16T15:06:20.002391Z",
     "iopub.status.busy": "2021-11-16T15:06:20.001446Z",
     "iopub.status.idle": "2021-11-16T15:06:20.650967Z",
     "shell.execute_reply": "2021-11-16T15:06:20.650443Z",
     "shell.execute_reply.started": "2021-11-16T14:19:57.801635Z"
    },
    "papermill": {
     "duration": 1.100997,
     "end_time": "2021-11-16T15:06:20.651102",
     "exception": false,
     "start_time": "2021-11-16T15:06:19.550105",
     "status": "completed"
    },
    "tags": []
   },
   "outputs": [],
   "source": [
    "# Encode the input sequence to get the \"thought vectors\"\n",
    "encoder_model = Model(encoder_inputs, encoder_states)\n",
    "\n",
    "# Decoder setup\n",
    "# Below tensors will hold the states of the previous time step\n",
    "decoder_state_input_h = Input(shape=(latent_dim,))\n",
    "decoder_states_inputs = [decoder_state_input_h]\n",
    "\n",
    "dec_emb2= dec_emb_layer(decoder_inputs) # Get the embeddings of the decoder sequence\n",
    "\n",
    "# To predict the next word in the sequence, set the initial states to the states from the previous time step\n",
    "decoder_outputs2, state_h2 = decoder_gru(dec_emb2, initial_state=decoder_states_inputs)\n",
    "decoder_states2 = [state_h2]\n",
    "decoder_outputs2 = decoder_dense(decoder_outputs2) # A dense softmax layer to generate prob dist. over the target vocabulary\n",
    "\n",
    "# Final decoder model\n",
    "decoder_model = Model(\n",
    "    [decoder_inputs] + decoder_states_inputs,\n",
    "    [decoder_outputs2] + decoder_states2)"
   ]
  },
  {
   "cell_type": "code",
   "execution_count": 30,
   "id": "54089fcb",
   "metadata": {
    "execution": {
     "iopub.execute_input": "2021-11-16T15:06:21.522280Z",
     "iopub.status.busy": "2021-11-16T15:06:21.521407Z",
     "iopub.status.idle": "2021-11-16T15:06:21.528665Z",
     "shell.execute_reply": "2021-11-16T15:06:21.528202Z",
     "shell.execute_reply.started": "2021-11-16T14:22:37.364729Z"
    },
    "papermill": {
     "duration": 0.439427,
     "end_time": "2021-11-16T15:06:21.528783",
     "exception": false,
     "start_time": "2021-11-16T15:06:21.089356",
     "status": "completed"
    },
    "tags": []
   },
   "outputs": [],
   "source": [
    "def decode_sequence(input_seq):\n",
    "    # Encode the input as state vectors.\n",
    "    states_value = encoder_model.predict(input_seq)\n",
    "    # Generate empty target sequence of length 1.\n",
    "    target_seq = np.zeros((1,1))\n",
    "    # Populate the first character of target sequence with the start character.\n",
    "    target_seq[0, 0] = target_token_index['<start>']\n",
    "\n",
    "    # Sampling loop for a batch of sequences\n",
    "    # (to simplify, here we assume a batch of size 1).\n",
    "    stop_condition = False\n",
    "    decoded_sentence = ''\n",
    "    while not stop_condition:\n",
    "        output_tokens, h = decoder_model.predict([target_seq] + states_value)\n",
    "\n",
    "        # Sample a token\n",
    "        sampled_token_index = np.argmax(output_tokens[0, -1, :])\n",
    "        sampled_char = reverse_target_char_index[sampled_token_index]\n",
    "        decoded_sentence += ' '+sampled_char\n",
    "\n",
    "        # Exit condition: either hit max length\n",
    "        # or find stop character.\n",
    "        if (sampled_char == '<end>' or\n",
    "           len(decoded_sentence) > 50):\n",
    "            stop_condition = True\n",
    "\n",
    "        # Update the target sequence (of length 1).\n",
    "        target_seq = np.zeros((1,1))\n",
    "        target_seq[0, 0] = sampled_token_index\n",
    "\n",
    "        # Update states\n",
    "        states_value = [h]\n",
    "\n",
    "    return decoded_sentence"
   ]
  },
  {
   "cell_type": "code",
   "execution_count": 31,
   "id": "86c537b6",
   "metadata": {
    "execution": {
     "iopub.execute_input": "2021-11-16T15:06:22.425038Z",
     "iopub.status.busy": "2021-11-16T15:06:22.424287Z",
     "iopub.status.idle": "2021-11-16T15:06:22.426501Z",
     "shell.execute_reply": "2021-11-16T15:06:22.426946Z",
     "shell.execute_reply.started": "2021-11-16T14:20:13.255429Z"
    },
    "papermill": {
     "duration": 0.444489,
     "end_time": "2021-11-16T15:06:22.427083",
     "exception": false,
     "start_time": "2021-11-16T15:06:21.982594",
     "status": "completed"
    },
    "tags": []
   },
   "outputs": [],
   "source": [
    "train_gen = generate_batch(X_train, y_train, batch_size = 1)\n",
    "k=-1"
   ]
  },
  {
   "cell_type": "code",
   "execution_count": 32,
   "id": "e6a7c5a7",
   "metadata": {
    "execution": {
     "iopub.execute_input": "2021-11-16T15:06:23.312875Z",
     "iopub.status.busy": "2021-11-16T15:06:23.312097Z",
     "iopub.status.idle": "2021-11-16T15:06:24.678682Z",
     "shell.execute_reply": "2021-11-16T15:06:24.678125Z",
     "shell.execute_reply.started": "2021-11-16T14:22:41.422443Z"
    },
    "papermill": {
     "duration": 1.820134,
     "end_time": "2021-11-16T15:06:24.678921",
     "exception": true,
     "start_time": "2021-11-16T15:06:22.858787",
     "status": "failed"
    },
    "tags": []
   },
   "outputs": [
    {
     "ename": "ValueError",
     "evalue": "in user code:\n\n    /opt/conda/lib/python3.7/site-packages/keras/engine/training.py:1586 predict_function  *\n        return step_function(self, iterator)\n    /opt/conda/lib/python3.7/site-packages/keras/engine/training.py:1576 step_function  **\n        outputs = model.distribute_strategy.run(run_step, args=(data,))\n    /opt/conda/lib/python3.7/site-packages/tensorflow/python/distribute/distribute_lib.py:1286 run\n        return self._extended.call_for_each_replica(fn, args=args, kwargs=kwargs)\n    /opt/conda/lib/python3.7/site-packages/tensorflow/python/distribute/distribute_lib.py:2849 call_for_each_replica\n        return self._call_for_each_replica(fn, args, kwargs)\n    /opt/conda/lib/python3.7/site-packages/tensorflow/python/distribute/distribute_lib.py:3632 _call_for_each_replica\n        return fn(*args, **kwargs)\n    /opt/conda/lib/python3.7/site-packages/keras/engine/training.py:1569 run_step  **\n        outputs = model.predict_step(data)\n    /opt/conda/lib/python3.7/site-packages/keras/engine/training.py:1537 predict_step\n        return self(x, training=False)\n    /opt/conda/lib/python3.7/site-packages/keras/engine/base_layer.py:1020 __call__\n        input_spec.assert_input_compatibility(self.input_spec, inputs, self.name)\n    /opt/conda/lib/python3.7/site-packages/keras/engine/input_spec.py:202 assert_input_compatibility\n        ' input tensors. Inputs received: ' + str(inputs))\n\n    ValueError: Layer model_2 expects 2 input(s), but it received 1 input tensors. Inputs received: [<tf.Tensor 'IteratorGetNext:0' shape=(None, 1, 300) dtype=float32>]\n",
     "output_type": "error",
     "traceback": [
      "\u001b[0;31m---------------------------------------------------------------------------\u001b[0m",
      "\u001b[0;31mValueError\u001b[0m                                Traceback (most recent call last)",
      "\u001b[0;32m/tmp/ipykernel_26/1932796575.py\u001b[0m in \u001b[0;36m<module>\u001b[0;34m\u001b[0m\n\u001b[1;32m      1\u001b[0m \u001b[0mk\u001b[0m\u001b[0;34m+=\u001b[0m\u001b[0;36m1\u001b[0m\u001b[0;34m\u001b[0m\u001b[0;34m\u001b[0m\u001b[0m\n\u001b[1;32m      2\u001b[0m \u001b[0;34m(\u001b[0m\u001b[0minput_seq\u001b[0m\u001b[0;34m,\u001b[0m \u001b[0mactual_output\u001b[0m\u001b[0;34m)\u001b[0m\u001b[0;34m,\u001b[0m \u001b[0m_\u001b[0m \u001b[0;34m=\u001b[0m \u001b[0mnext\u001b[0m\u001b[0;34m(\u001b[0m\u001b[0mtrain_gen\u001b[0m\u001b[0;34m)\u001b[0m\u001b[0;34m\u001b[0m\u001b[0;34m\u001b[0m\u001b[0m\n\u001b[0;32m----> 3\u001b[0;31m \u001b[0mdecoded_sentence\u001b[0m \u001b[0;34m=\u001b[0m \u001b[0mdecode_sequence\u001b[0m\u001b[0;34m(\u001b[0m\u001b[0minput_seq\u001b[0m\u001b[0;34m)\u001b[0m\u001b[0;34m\u001b[0m\u001b[0;34m\u001b[0m\u001b[0m\n\u001b[0m\u001b[1;32m      4\u001b[0m \u001b[0mprint\u001b[0m\u001b[0;34m(\u001b[0m\u001b[0;34m'Input English sentence:'\u001b[0m\u001b[0;34m,\u001b[0m \u001b[0mX_train\u001b[0m\u001b[0;34m[\u001b[0m\u001b[0mk\u001b[0m\u001b[0;34m:\u001b[0m\u001b[0mk\u001b[0m\u001b[0;34m+\u001b[0m\u001b[0;36m1\u001b[0m\u001b[0;34m]\u001b[0m\u001b[0;34m.\u001b[0m\u001b[0mvalues\u001b[0m\u001b[0;34m[\u001b[0m\u001b[0;36m0\u001b[0m\u001b[0;34m]\u001b[0m\u001b[0;34m)\u001b[0m\u001b[0;34m\u001b[0m\u001b[0;34m\u001b[0m\u001b[0m\n\u001b[1;32m      5\u001b[0m \u001b[0mprint\u001b[0m\u001b[0;34m(\u001b[0m\u001b[0;34m'Actual Indonesia Translation:'\u001b[0m\u001b[0;34m,\u001b[0m \u001b[0my_train\u001b[0m\u001b[0;34m[\u001b[0m\u001b[0mk\u001b[0m\u001b[0;34m:\u001b[0m\u001b[0mk\u001b[0m\u001b[0;34m+\u001b[0m\u001b[0;36m1\u001b[0m\u001b[0;34m]\u001b[0m\u001b[0;34m.\u001b[0m\u001b[0mvalues\u001b[0m\u001b[0;34m[\u001b[0m\u001b[0;36m0\u001b[0m\u001b[0;34m]\u001b[0m\u001b[0;34m[\u001b[0m\u001b[0;36m8\u001b[0m\u001b[0;34m:\u001b[0m\u001b[0;34m-\u001b[0m\u001b[0;36m6\u001b[0m\u001b[0;34m]\u001b[0m\u001b[0;34m)\u001b[0m\u001b[0;34m\u001b[0m\u001b[0;34m\u001b[0m\u001b[0m\n",
      "\u001b[0;32m/tmp/ipykernel_26/3553849966.py\u001b[0m in \u001b[0;36mdecode_sequence\u001b[0;34m(input_seq)\u001b[0m\n\u001b[1;32m     12\u001b[0m     \u001b[0mdecoded_sentence\u001b[0m \u001b[0;34m=\u001b[0m \u001b[0;34m''\u001b[0m\u001b[0;34m\u001b[0m\u001b[0;34m\u001b[0m\u001b[0m\n\u001b[1;32m     13\u001b[0m     \u001b[0;32mwhile\u001b[0m \u001b[0;32mnot\u001b[0m \u001b[0mstop_condition\u001b[0m\u001b[0;34m:\u001b[0m\u001b[0;34m\u001b[0m\u001b[0;34m\u001b[0m\u001b[0m\n\u001b[0;32m---> 14\u001b[0;31m         \u001b[0moutput_tokens\u001b[0m\u001b[0;34m,\u001b[0m \u001b[0mh\u001b[0m \u001b[0;34m=\u001b[0m \u001b[0mdecoder_model\u001b[0m\u001b[0;34m.\u001b[0m\u001b[0mpredict\u001b[0m\u001b[0;34m(\u001b[0m\u001b[0;34m[\u001b[0m\u001b[0mtarget_seq\u001b[0m\u001b[0;34m]\u001b[0m \u001b[0;34m+\u001b[0m \u001b[0mstates_value\u001b[0m\u001b[0;34m)\u001b[0m\u001b[0;34m\u001b[0m\u001b[0;34m\u001b[0m\u001b[0m\n\u001b[0m\u001b[1;32m     15\u001b[0m \u001b[0;34m\u001b[0m\u001b[0m\n\u001b[1;32m     16\u001b[0m         \u001b[0;31m# Sample a token\u001b[0m\u001b[0;34m\u001b[0m\u001b[0;34m\u001b[0m\u001b[0;34m\u001b[0m\u001b[0m\n",
      "\u001b[0;32m/opt/conda/lib/python3.7/site-packages/keras/engine/training.py\u001b[0m in \u001b[0;36mpredict\u001b[0;34m(self, x, batch_size, verbose, steps, callbacks, max_queue_size, workers, use_multiprocessing)\u001b[0m\n\u001b[1;32m   1749\u001b[0m           \u001b[0;32mfor\u001b[0m \u001b[0mstep\u001b[0m \u001b[0;32min\u001b[0m \u001b[0mdata_handler\u001b[0m\u001b[0;34m.\u001b[0m\u001b[0msteps\u001b[0m\u001b[0;34m(\u001b[0m\u001b[0;34m)\u001b[0m\u001b[0;34m:\u001b[0m\u001b[0;34m\u001b[0m\u001b[0;34m\u001b[0m\u001b[0m\n\u001b[1;32m   1750\u001b[0m             \u001b[0mcallbacks\u001b[0m\u001b[0;34m.\u001b[0m\u001b[0mon_predict_batch_begin\u001b[0m\u001b[0;34m(\u001b[0m\u001b[0mstep\u001b[0m\u001b[0;34m)\u001b[0m\u001b[0;34m\u001b[0m\u001b[0;34m\u001b[0m\u001b[0m\n\u001b[0;32m-> 1751\u001b[0;31m             \u001b[0mtmp_batch_outputs\u001b[0m \u001b[0;34m=\u001b[0m \u001b[0mself\u001b[0m\u001b[0;34m.\u001b[0m\u001b[0mpredict_function\u001b[0m\u001b[0;34m(\u001b[0m\u001b[0miterator\u001b[0m\u001b[0;34m)\u001b[0m\u001b[0;34m\u001b[0m\u001b[0;34m\u001b[0m\u001b[0m\n\u001b[0m\u001b[1;32m   1752\u001b[0m             \u001b[0;32mif\u001b[0m \u001b[0mdata_handler\u001b[0m\u001b[0;34m.\u001b[0m\u001b[0mshould_sync\u001b[0m\u001b[0;34m:\u001b[0m\u001b[0;34m\u001b[0m\u001b[0;34m\u001b[0m\u001b[0m\n\u001b[1;32m   1753\u001b[0m               \u001b[0mcontext\u001b[0m\u001b[0;34m.\u001b[0m\u001b[0masync_wait\u001b[0m\u001b[0;34m(\u001b[0m\u001b[0;34m)\u001b[0m\u001b[0;34m\u001b[0m\u001b[0;34m\u001b[0m\u001b[0m\n",
      "\u001b[0;32m/opt/conda/lib/python3.7/site-packages/tensorflow/python/eager/def_function.py\u001b[0m in \u001b[0;36m__call__\u001b[0;34m(self, *args, **kwds)\u001b[0m\n\u001b[1;32m    883\u001b[0m \u001b[0;34m\u001b[0m\u001b[0m\n\u001b[1;32m    884\u001b[0m       \u001b[0;32mwith\u001b[0m \u001b[0mOptionalXlaContext\u001b[0m\u001b[0;34m(\u001b[0m\u001b[0mself\u001b[0m\u001b[0;34m.\u001b[0m\u001b[0m_jit_compile\u001b[0m\u001b[0;34m)\u001b[0m\u001b[0;34m:\u001b[0m\u001b[0;34m\u001b[0m\u001b[0;34m\u001b[0m\u001b[0m\n\u001b[0;32m--> 885\u001b[0;31m         \u001b[0mresult\u001b[0m \u001b[0;34m=\u001b[0m \u001b[0mself\u001b[0m\u001b[0;34m.\u001b[0m\u001b[0m_call\u001b[0m\u001b[0;34m(\u001b[0m\u001b[0;34m*\u001b[0m\u001b[0margs\u001b[0m\u001b[0;34m,\u001b[0m \u001b[0;34m**\u001b[0m\u001b[0mkwds\u001b[0m\u001b[0;34m)\u001b[0m\u001b[0;34m\u001b[0m\u001b[0;34m\u001b[0m\u001b[0m\n\u001b[0m\u001b[1;32m    886\u001b[0m \u001b[0;34m\u001b[0m\u001b[0m\n\u001b[1;32m    887\u001b[0m       \u001b[0mnew_tracing_count\u001b[0m \u001b[0;34m=\u001b[0m \u001b[0mself\u001b[0m\u001b[0;34m.\u001b[0m\u001b[0mexperimental_get_tracing_count\u001b[0m\u001b[0;34m(\u001b[0m\u001b[0;34m)\u001b[0m\u001b[0;34m\u001b[0m\u001b[0;34m\u001b[0m\u001b[0m\n",
      "\u001b[0;32m/opt/conda/lib/python3.7/site-packages/tensorflow/python/eager/def_function.py\u001b[0m in \u001b[0;36m_call\u001b[0;34m(self, *args, **kwds)\u001b[0m\n\u001b[1;32m    931\u001b[0m       \u001b[0;31m# This is the first call of __call__, so we have to initialize.\u001b[0m\u001b[0;34m\u001b[0m\u001b[0;34m\u001b[0m\u001b[0;34m\u001b[0m\u001b[0m\n\u001b[1;32m    932\u001b[0m       \u001b[0minitializers\u001b[0m \u001b[0;34m=\u001b[0m \u001b[0;34m[\u001b[0m\u001b[0;34m]\u001b[0m\u001b[0;34m\u001b[0m\u001b[0;34m\u001b[0m\u001b[0m\n\u001b[0;32m--> 933\u001b[0;31m       \u001b[0mself\u001b[0m\u001b[0;34m.\u001b[0m\u001b[0m_initialize\u001b[0m\u001b[0;34m(\u001b[0m\u001b[0margs\u001b[0m\u001b[0;34m,\u001b[0m \u001b[0mkwds\u001b[0m\u001b[0;34m,\u001b[0m \u001b[0madd_initializers_to\u001b[0m\u001b[0;34m=\u001b[0m\u001b[0minitializers\u001b[0m\u001b[0;34m)\u001b[0m\u001b[0;34m\u001b[0m\u001b[0;34m\u001b[0m\u001b[0m\n\u001b[0m\u001b[1;32m    934\u001b[0m     \u001b[0;32mfinally\u001b[0m\u001b[0;34m:\u001b[0m\u001b[0;34m\u001b[0m\u001b[0;34m\u001b[0m\u001b[0m\n\u001b[1;32m    935\u001b[0m       \u001b[0;31m# At this point we know that the initialization is complete (or less\u001b[0m\u001b[0;34m\u001b[0m\u001b[0;34m\u001b[0m\u001b[0;34m\u001b[0m\u001b[0m\n",
      "\u001b[0;32m/opt/conda/lib/python3.7/site-packages/tensorflow/python/eager/def_function.py\u001b[0m in \u001b[0;36m_initialize\u001b[0;34m(self, args, kwds, add_initializers_to)\u001b[0m\n\u001b[1;32m    758\u001b[0m     self._concrete_stateful_fn = (\n\u001b[1;32m    759\u001b[0m         self._stateful_fn._get_concrete_function_internal_garbage_collected(  # pylint: disable=protected-access\n\u001b[0;32m--> 760\u001b[0;31m             *args, **kwds))\n\u001b[0m\u001b[1;32m    761\u001b[0m \u001b[0;34m\u001b[0m\u001b[0m\n\u001b[1;32m    762\u001b[0m     \u001b[0;32mdef\u001b[0m \u001b[0minvalid_creator_scope\u001b[0m\u001b[0;34m(\u001b[0m\u001b[0;34m*\u001b[0m\u001b[0munused_args\u001b[0m\u001b[0;34m,\u001b[0m \u001b[0;34m**\u001b[0m\u001b[0munused_kwds\u001b[0m\u001b[0;34m)\u001b[0m\u001b[0;34m:\u001b[0m\u001b[0;34m\u001b[0m\u001b[0;34m\u001b[0m\u001b[0m\n",
      "\u001b[0;32m/opt/conda/lib/python3.7/site-packages/tensorflow/python/eager/function.py\u001b[0m in \u001b[0;36m_get_concrete_function_internal_garbage_collected\u001b[0;34m(self, *args, **kwargs)\u001b[0m\n\u001b[1;32m   3064\u001b[0m       \u001b[0margs\u001b[0m\u001b[0;34m,\u001b[0m \u001b[0mkwargs\u001b[0m \u001b[0;34m=\u001b[0m \u001b[0;32mNone\u001b[0m\u001b[0;34m,\u001b[0m \u001b[0;32mNone\u001b[0m\u001b[0;34m\u001b[0m\u001b[0;34m\u001b[0m\u001b[0m\n\u001b[1;32m   3065\u001b[0m     \u001b[0;32mwith\u001b[0m \u001b[0mself\u001b[0m\u001b[0;34m.\u001b[0m\u001b[0m_lock\u001b[0m\u001b[0;34m:\u001b[0m\u001b[0;34m\u001b[0m\u001b[0;34m\u001b[0m\u001b[0m\n\u001b[0;32m-> 3066\u001b[0;31m       \u001b[0mgraph_function\u001b[0m\u001b[0;34m,\u001b[0m \u001b[0m_\u001b[0m \u001b[0;34m=\u001b[0m \u001b[0mself\u001b[0m\u001b[0;34m.\u001b[0m\u001b[0m_maybe_define_function\u001b[0m\u001b[0;34m(\u001b[0m\u001b[0margs\u001b[0m\u001b[0;34m,\u001b[0m \u001b[0mkwargs\u001b[0m\u001b[0;34m)\u001b[0m\u001b[0;34m\u001b[0m\u001b[0;34m\u001b[0m\u001b[0m\n\u001b[0m\u001b[1;32m   3067\u001b[0m     \u001b[0;32mreturn\u001b[0m \u001b[0mgraph_function\u001b[0m\u001b[0;34m\u001b[0m\u001b[0;34m\u001b[0m\u001b[0m\n\u001b[1;32m   3068\u001b[0m \u001b[0;34m\u001b[0m\u001b[0m\n",
      "\u001b[0;32m/opt/conda/lib/python3.7/site-packages/tensorflow/python/eager/function.py\u001b[0m in \u001b[0;36m_maybe_define_function\u001b[0;34m(self, args, kwargs)\u001b[0m\n\u001b[1;32m   3461\u001b[0m \u001b[0;34m\u001b[0m\u001b[0m\n\u001b[1;32m   3462\u001b[0m           \u001b[0mself\u001b[0m\u001b[0;34m.\u001b[0m\u001b[0m_function_cache\u001b[0m\u001b[0;34m.\u001b[0m\u001b[0mmissed\u001b[0m\u001b[0;34m.\u001b[0m\u001b[0madd\u001b[0m\u001b[0;34m(\u001b[0m\u001b[0mcall_context_key\u001b[0m\u001b[0;34m)\u001b[0m\u001b[0;34m\u001b[0m\u001b[0;34m\u001b[0m\u001b[0m\n\u001b[0;32m-> 3463\u001b[0;31m           \u001b[0mgraph_function\u001b[0m \u001b[0;34m=\u001b[0m \u001b[0mself\u001b[0m\u001b[0;34m.\u001b[0m\u001b[0m_create_graph_function\u001b[0m\u001b[0;34m(\u001b[0m\u001b[0margs\u001b[0m\u001b[0;34m,\u001b[0m \u001b[0mkwargs\u001b[0m\u001b[0;34m)\u001b[0m\u001b[0;34m\u001b[0m\u001b[0;34m\u001b[0m\u001b[0m\n\u001b[0m\u001b[1;32m   3464\u001b[0m           \u001b[0mself\u001b[0m\u001b[0;34m.\u001b[0m\u001b[0m_function_cache\u001b[0m\u001b[0;34m.\u001b[0m\u001b[0mprimary\u001b[0m\u001b[0;34m[\u001b[0m\u001b[0mcache_key\u001b[0m\u001b[0;34m]\u001b[0m \u001b[0;34m=\u001b[0m \u001b[0mgraph_function\u001b[0m\u001b[0;34m\u001b[0m\u001b[0;34m\u001b[0m\u001b[0m\n\u001b[1;32m   3465\u001b[0m \u001b[0;34m\u001b[0m\u001b[0m\n",
      "\u001b[0;32m/opt/conda/lib/python3.7/site-packages/tensorflow/python/eager/function.py\u001b[0m in \u001b[0;36m_create_graph_function\u001b[0;34m(self, args, kwargs, override_flat_arg_shapes)\u001b[0m\n\u001b[1;32m   3306\u001b[0m             \u001b[0marg_names\u001b[0m\u001b[0;34m=\u001b[0m\u001b[0marg_names\u001b[0m\u001b[0;34m,\u001b[0m\u001b[0;34m\u001b[0m\u001b[0;34m\u001b[0m\u001b[0m\n\u001b[1;32m   3307\u001b[0m             \u001b[0moverride_flat_arg_shapes\u001b[0m\u001b[0;34m=\u001b[0m\u001b[0moverride_flat_arg_shapes\u001b[0m\u001b[0;34m,\u001b[0m\u001b[0;34m\u001b[0m\u001b[0;34m\u001b[0m\u001b[0m\n\u001b[0;32m-> 3308\u001b[0;31m             capture_by_value=self._capture_by_value),\n\u001b[0m\u001b[1;32m   3309\u001b[0m         \u001b[0mself\u001b[0m\u001b[0;34m.\u001b[0m\u001b[0m_function_attributes\u001b[0m\u001b[0;34m,\u001b[0m\u001b[0;34m\u001b[0m\u001b[0;34m\u001b[0m\u001b[0m\n\u001b[1;32m   3310\u001b[0m         \u001b[0mfunction_spec\u001b[0m\u001b[0;34m=\u001b[0m\u001b[0mself\u001b[0m\u001b[0;34m.\u001b[0m\u001b[0mfunction_spec\u001b[0m\u001b[0;34m,\u001b[0m\u001b[0;34m\u001b[0m\u001b[0;34m\u001b[0m\u001b[0m\n",
      "\u001b[0;32m/opt/conda/lib/python3.7/site-packages/tensorflow/python/framework/func_graph.py\u001b[0m in \u001b[0;36mfunc_graph_from_py_func\u001b[0;34m(name, python_func, args, kwargs, signature, func_graph, autograph, autograph_options, add_control_dependencies, arg_names, op_return_value, collections, capture_by_value, override_flat_arg_shapes, acd_record_initial_resource_uses)\u001b[0m\n\u001b[1;32m   1005\u001b[0m         \u001b[0m_\u001b[0m\u001b[0;34m,\u001b[0m \u001b[0moriginal_func\u001b[0m \u001b[0;34m=\u001b[0m \u001b[0mtf_decorator\u001b[0m\u001b[0;34m.\u001b[0m\u001b[0munwrap\u001b[0m\u001b[0;34m(\u001b[0m\u001b[0mpython_func\u001b[0m\u001b[0;34m)\u001b[0m\u001b[0;34m\u001b[0m\u001b[0;34m\u001b[0m\u001b[0m\n\u001b[1;32m   1006\u001b[0m \u001b[0;34m\u001b[0m\u001b[0m\n\u001b[0;32m-> 1007\u001b[0;31m       \u001b[0mfunc_outputs\u001b[0m \u001b[0;34m=\u001b[0m \u001b[0mpython_func\u001b[0m\u001b[0;34m(\u001b[0m\u001b[0;34m*\u001b[0m\u001b[0mfunc_args\u001b[0m\u001b[0;34m,\u001b[0m \u001b[0;34m**\u001b[0m\u001b[0mfunc_kwargs\u001b[0m\u001b[0;34m)\u001b[0m\u001b[0;34m\u001b[0m\u001b[0;34m\u001b[0m\u001b[0m\n\u001b[0m\u001b[1;32m   1008\u001b[0m \u001b[0;34m\u001b[0m\u001b[0m\n\u001b[1;32m   1009\u001b[0m       \u001b[0;31m# invariant: `func_outputs` contains only Tensors, CompositeTensors,\u001b[0m\u001b[0;34m\u001b[0m\u001b[0;34m\u001b[0m\u001b[0;34m\u001b[0m\u001b[0m\n",
      "\u001b[0;32m/opt/conda/lib/python3.7/site-packages/tensorflow/python/eager/def_function.py\u001b[0m in \u001b[0;36mwrapped_fn\u001b[0;34m(*args, **kwds)\u001b[0m\n\u001b[1;32m    666\u001b[0m         \u001b[0;31m# the function a weak reference to itself to avoid a reference cycle.\u001b[0m\u001b[0;34m\u001b[0m\u001b[0;34m\u001b[0m\u001b[0;34m\u001b[0m\u001b[0m\n\u001b[1;32m    667\u001b[0m         \u001b[0;32mwith\u001b[0m \u001b[0mOptionalXlaContext\u001b[0m\u001b[0;34m(\u001b[0m\u001b[0mcompile_with_xla\u001b[0m\u001b[0;34m)\u001b[0m\u001b[0;34m:\u001b[0m\u001b[0;34m\u001b[0m\u001b[0;34m\u001b[0m\u001b[0m\n\u001b[0;32m--> 668\u001b[0;31m           \u001b[0mout\u001b[0m \u001b[0;34m=\u001b[0m \u001b[0mweak_wrapped_fn\u001b[0m\u001b[0;34m(\u001b[0m\u001b[0;34m)\u001b[0m\u001b[0;34m.\u001b[0m\u001b[0m__wrapped__\u001b[0m\u001b[0;34m(\u001b[0m\u001b[0;34m*\u001b[0m\u001b[0margs\u001b[0m\u001b[0;34m,\u001b[0m \u001b[0;34m**\u001b[0m\u001b[0mkwds\u001b[0m\u001b[0;34m)\u001b[0m\u001b[0;34m\u001b[0m\u001b[0;34m\u001b[0m\u001b[0m\n\u001b[0m\u001b[1;32m    669\u001b[0m         \u001b[0;32mreturn\u001b[0m \u001b[0mout\u001b[0m\u001b[0;34m\u001b[0m\u001b[0;34m\u001b[0m\u001b[0m\n\u001b[1;32m    670\u001b[0m \u001b[0;34m\u001b[0m\u001b[0m\n",
      "\u001b[0;32m/opt/conda/lib/python3.7/site-packages/tensorflow/python/framework/func_graph.py\u001b[0m in \u001b[0;36mwrapper\u001b[0;34m(*args, **kwargs)\u001b[0m\n\u001b[1;32m    992\u001b[0m           \u001b[0;32mexcept\u001b[0m \u001b[0mException\u001b[0m \u001b[0;32mas\u001b[0m \u001b[0me\u001b[0m\u001b[0;34m:\u001b[0m  \u001b[0;31m# pylint:disable=broad-except\u001b[0m\u001b[0;34m\u001b[0m\u001b[0;34m\u001b[0m\u001b[0m\n\u001b[1;32m    993\u001b[0m             \u001b[0;32mif\u001b[0m \u001b[0mhasattr\u001b[0m\u001b[0;34m(\u001b[0m\u001b[0me\u001b[0m\u001b[0;34m,\u001b[0m \u001b[0;34m\"ag_error_metadata\"\u001b[0m\u001b[0;34m)\u001b[0m\u001b[0;34m:\u001b[0m\u001b[0;34m\u001b[0m\u001b[0;34m\u001b[0m\u001b[0m\n\u001b[0;32m--> 994\u001b[0;31m               \u001b[0;32mraise\u001b[0m \u001b[0me\u001b[0m\u001b[0;34m.\u001b[0m\u001b[0mag_error_metadata\u001b[0m\u001b[0;34m.\u001b[0m\u001b[0mto_exception\u001b[0m\u001b[0;34m(\u001b[0m\u001b[0me\u001b[0m\u001b[0;34m)\u001b[0m\u001b[0;34m\u001b[0m\u001b[0;34m\u001b[0m\u001b[0m\n\u001b[0m\u001b[1;32m    995\u001b[0m             \u001b[0;32melse\u001b[0m\u001b[0;34m:\u001b[0m\u001b[0;34m\u001b[0m\u001b[0;34m\u001b[0m\u001b[0m\n\u001b[1;32m    996\u001b[0m               \u001b[0;32mraise\u001b[0m\u001b[0;34m\u001b[0m\u001b[0;34m\u001b[0m\u001b[0m\n",
      "\u001b[0;31mValueError\u001b[0m: in user code:\n\n    /opt/conda/lib/python3.7/site-packages/keras/engine/training.py:1586 predict_function  *\n        return step_function(self, iterator)\n    /opt/conda/lib/python3.7/site-packages/keras/engine/training.py:1576 step_function  **\n        outputs = model.distribute_strategy.run(run_step, args=(data,))\n    /opt/conda/lib/python3.7/site-packages/tensorflow/python/distribute/distribute_lib.py:1286 run\n        return self._extended.call_for_each_replica(fn, args=args, kwargs=kwargs)\n    /opt/conda/lib/python3.7/site-packages/tensorflow/python/distribute/distribute_lib.py:2849 call_for_each_replica\n        return self._call_for_each_replica(fn, args, kwargs)\n    /opt/conda/lib/python3.7/site-packages/tensorflow/python/distribute/distribute_lib.py:3632 _call_for_each_replica\n        return fn(*args, **kwargs)\n    /opt/conda/lib/python3.7/site-packages/keras/engine/training.py:1569 run_step  **\n        outputs = model.predict_step(data)\n    /opt/conda/lib/python3.7/site-packages/keras/engine/training.py:1537 predict_step\n        return self(x, training=False)\n    /opt/conda/lib/python3.7/site-packages/keras/engine/base_layer.py:1020 __call__\n        input_spec.assert_input_compatibility(self.input_spec, inputs, self.name)\n    /opt/conda/lib/python3.7/site-packages/keras/engine/input_spec.py:202 assert_input_compatibility\n        ' input tensors. Inputs received: ' + str(inputs))\n\n    ValueError: Layer model_2 expects 2 input(s), but it received 1 input tensors. Inputs received: [<tf.Tensor 'IteratorGetNext:0' shape=(None, 1, 300) dtype=float32>]\n"
     ]
    }
   ],
   "source": [
    "k+=1\n",
    "(input_seq, actual_output), _ = next(train_gen)\n",
    "decoded_sentence = decode_sequence(input_seq)\n",
    "print('Input English sentence:', X_train[k:k+1].values[0])\n",
    "print('Actual Indonesia Translation:', y_train[k:k+1].values[0][8:-6])\n",
    "print('Predicted Indonesia Translation:', decoded_sentence[:-6])"
   ]
  },
  {
   "cell_type": "code",
   "execution_count": null,
   "id": "c245fcf7",
   "metadata": {
    "execution": {
     "iopub.status.busy": "2021-11-16T14:16:22.710419Z",
     "iopub.status.idle": "2021-11-16T14:16:22.711225Z",
     "shell.execute_reply": "2021-11-16T14:16:22.71093Z",
     "shell.execute_reply.started": "2021-11-16T14:16:22.710896Z"
    },
    "papermill": {
     "duration": null,
     "end_time": null,
     "exception": null,
     "start_time": null,
     "status": "pending"
    },
    "tags": []
   },
   "outputs": [],
   "source": [
    "k+=1\n",
    "(input_seq, actual_output), _ = next(train_gen)\n",
    "decoded_sentence = decode_sequence(input_seq)\n",
    "print('Input English sentence:', X_train[k:k+1].values[0])\n",
    "print('Actual Indonesia Translation:', y_train[k:k+1].values[0][8:-6])\n",
    "print('Predicted Indonesia Translation:', decoded_sentence[:-6])"
   ]
  },
  {
   "cell_type": "code",
   "execution_count": null,
   "id": "5c44dfdc",
   "metadata": {
    "execution": {
     "iopub.status.busy": "2021-11-16T14:16:22.712883Z",
     "iopub.status.idle": "2021-11-16T14:16:22.713746Z",
     "shell.execute_reply": "2021-11-16T14:16:22.713445Z",
     "shell.execute_reply.started": "2021-11-16T14:16:22.713416Z"
    },
    "papermill": {
     "duration": null,
     "end_time": null,
     "exception": null,
     "start_time": null,
     "status": "pending"
    },
    "tags": []
   },
   "outputs": [],
   "source": [
    "k+=1\n",
    "(input_seq, actual_output), _ = next(train_gen)\n",
    "decoded_sentence = decode_sequence(input_seq)\n",
    "print('Input English sentence:', X_train[k:k+1].values[0])\n",
    "print('Actual Indonesia Translation:', y_train[k:k+1].values[0][8:-6])\n",
    "print('Predicted Indonesia Translation:', decoded_sentence[:-6])"
   ]
  },
  {
   "cell_type": "code",
   "execution_count": null,
   "id": "76bcffb5",
   "metadata": {
    "execution": {
     "iopub.status.busy": "2021-11-16T14:16:22.715335Z",
     "iopub.status.idle": "2021-11-16T14:16:22.716168Z",
     "shell.execute_reply": "2021-11-16T14:16:22.715875Z",
     "shell.execute_reply.started": "2021-11-16T14:16:22.715845Z"
    },
    "papermill": {
     "duration": null,
     "end_time": null,
     "exception": null,
     "start_time": null,
     "status": "pending"
    },
    "tags": []
   },
   "outputs": [],
   "source": [
    "k+=1\n",
    "(input_seq, actual_output), _ = next(train_gen)\n",
    "decoded_sentence = decode_sequence(input_seq)\n",
    "print('Input English sentence:', X_train[k:k+1].values[0])\n",
    "print('Actual Indonesia Translation:', y_train[k:k+1].values[0][8:-6])\n",
    "print('Predicted Indonesia Translation:', decoded_sentence[:-6])"
   ]
  },
  {
   "cell_type": "code",
   "execution_count": null,
   "id": "1db462f0",
   "metadata": {
    "execution": {
     "iopub.status.busy": "2021-11-16T14:16:22.717861Z",
     "iopub.status.idle": "2021-11-16T14:16:22.718694Z",
     "shell.execute_reply": "2021-11-16T14:16:22.718401Z",
     "shell.execute_reply.started": "2021-11-16T14:16:22.71837Z"
    },
    "papermill": {
     "duration": null,
     "end_time": null,
     "exception": null,
     "start_time": null,
     "status": "pending"
    },
    "tags": []
   },
   "outputs": [],
   "source": [
    "k+=1\n",
    "(input_seq, actual_output), _ = next(train_gen)\n",
    "decoded_sentence = decode_sequence(input_seq)\n",
    "print('Input English sentence:', X_train[k:k+1].values[0])\n",
    "print('Actual Indonesia Translation:', y_train[k:k+1].values[0][8:-6])\n",
    "print('Predicted Indonesia Translation:', decoded_sentence[:-6])"
   ]
  },
  {
   "cell_type": "code",
   "execution_count": null,
   "id": "27c923db",
   "metadata": {
    "execution": {
     "iopub.status.busy": "2021-11-16T14:16:22.720235Z",
     "iopub.status.idle": "2021-11-16T14:16:22.721031Z",
     "shell.execute_reply": "2021-11-16T14:16:22.720762Z",
     "shell.execute_reply.started": "2021-11-16T14:16:22.720734Z"
    },
    "papermill": {
     "duration": null,
     "end_time": null,
     "exception": null,
     "start_time": null,
     "status": "pending"
    },
    "tags": []
   },
   "outputs": [],
   "source": [
    "from sacrebleu.metrics import BLEU\n",
    "\n",
    "bleu = BLEU()"
   ]
  },
  {
   "cell_type": "code",
   "execution_count": null,
   "id": "7441347f",
   "metadata": {
    "execution": {
     "iopub.status.busy": "2021-11-16T14:16:22.722605Z",
     "iopub.status.idle": "2021-11-16T14:16:22.723409Z",
     "shell.execute_reply": "2021-11-16T14:16:22.723122Z",
     "shell.execute_reply.started": "2021-11-16T14:16:22.723092Z"
    },
    "papermill": {
     "duration": null,
     "end_time": null,
     "exception": null,
     "start_time": null,
     "status": "pending"
    },
    "tags": []
   },
   "outputs": [],
   "source": [
    "refs = [[sentence[8:-6] for sentence in y_test[:5]]]"
   ]
  },
  {
   "cell_type": "code",
   "execution_count": null,
   "id": "159bca41",
   "metadata": {
    "execution": {
     "iopub.status.busy": "2021-11-16T14:16:22.725073Z",
     "iopub.status.idle": "2021-11-16T14:16:22.725863Z",
     "shell.execute_reply": "2021-11-16T14:16:22.725596Z",
     "shell.execute_reply.started": "2021-11-16T14:16:22.725565Z"
    },
    "papermill": {
     "duration": null,
     "end_time": null,
     "exception": null,
     "start_time": null,
     "status": "pending"
    },
    "tags": []
   },
   "outputs": [],
   "source": [
    "hyps = []\n",
    "test_gen = generate_batch(X_test[:5], y_test[:5], batch_size = 1)\n",
    "for i in range(0, 5):\n",
    "    (input_seq, actual_output), _ = next(test_gen)\n",
    "    hyps.append(decode_sequence(input_seq)[1:-6])\n",
    "    print(i, end='\\r')"
   ]
  },
  {
   "cell_type": "code",
   "execution_count": null,
   "id": "eed1b70f",
   "metadata": {
    "execution": {
     "iopub.status.busy": "2021-11-16T14:16:22.72771Z",
     "iopub.status.idle": "2021-11-16T14:16:22.728562Z",
     "shell.execute_reply": "2021-11-16T14:16:22.728257Z",
     "shell.execute_reply.started": "2021-11-16T14:16:22.728211Z"
    },
    "papermill": {
     "duration": null,
     "end_time": null,
     "exception": null,
     "start_time": null,
     "status": "pending"
    },
    "tags": []
   },
   "outputs": [],
   "source": [
    "result = bleu.corpus_score(hyps, refs)\n",
    "print(result)"
   ]
  }
 ],
 "metadata": {
  "kernelspec": {
   "display_name": "Python 3",
   "language": "python",
   "name": "python3"
  },
  "language_info": {
   "codemirror_mode": {
    "name": "ipython",
    "version": 3
   },
   "file_extension": ".py",
   "mimetype": "text/x-python",
   "name": "python",
   "nbconvert_exporter": "python",
   "pygments_lexer": "ipython3",
   "version": "3.7.10"
  },
  "papermill": {
   "default_parameters": {},
   "duration": 1631.520973,
   "end_time": "2021-11-16T15:06:28.243003",
   "environment_variables": {},
   "exception": true,
   "input_path": "__notebook__.ipynb",
   "output_path": "__notebook__.ipynb",
   "parameters": {},
   "start_time": "2021-11-16T14:39:16.722030",
   "version": "2.3.3"
  }
 },
 "nbformat": 4,
 "nbformat_minor": 5
}
