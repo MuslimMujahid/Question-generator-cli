{
 "cells": [
  {
   "cell_type": "code",
   "execution_count": 1,
   "id": "d5dcd28d",
   "metadata": {
    "execution": {
     "iopub.execute_input": "2021-11-16T17:08:23.884250Z",
     "iopub.status.busy": "2021-11-16T17:08:23.882724Z",
     "iopub.status.idle": "2021-11-16T17:08:33.130933Z",
     "shell.execute_reply": "2021-11-16T17:08:33.130224Z",
     "shell.execute_reply.started": "2021-11-16T14:06:08.082657Z"
    },
    "papermill": {
     "duration": 9.282195,
     "end_time": "2021-11-16T17:08:33.131109",
     "exception": false,
     "start_time": "2021-11-16T17:08:23.848914",
     "status": "completed"
    },
    "tags": []
   },
   "outputs": [
    {
     "name": "stdout",
     "output_type": "stream",
     "text": [
      "Collecting sacrebleu\r\n",
      "  Downloading sacrebleu-2.0.0-py3-none-any.whl (90 kB)\r\n",
      "\u001b[K     |████████████████████████████████| 90 kB 984 kB/s \r\n",
      "\u001b[?25hRequirement already satisfied: portalocker in /opt/conda/lib/python3.7/site-packages (from sacrebleu) (2.3.2)\r\n",
      "Requirement already satisfied: numpy>=1.17 in /opt/conda/lib/python3.7/site-packages (from sacrebleu) (1.19.5)\r\n",
      "Requirement already satisfied: colorama in /opt/conda/lib/python3.7/site-packages (from sacrebleu) (0.4.4)\r\n",
      "Requirement already satisfied: regex in /opt/conda/lib/python3.7/site-packages (from sacrebleu) (2021.8.28)\r\n",
      "Requirement already satisfied: tabulate>=0.8.9 in /opt/conda/lib/python3.7/site-packages (from sacrebleu) (0.8.9)\r\n",
      "Installing collected packages: sacrebleu\r\n",
      "Successfully installed sacrebleu-2.0.0\r\n",
      "\u001b[33mWARNING: Running pip as the 'root' user can result in broken permissions and conflicting behaviour with the system package manager. It is recommended to use a virtual environment instead: https://pip.pypa.io/warnings/venv\u001b[0m\r\n"
     ]
    }
   ],
   "source": [
    "!pip install sacrebleu"
   ]
  },
  {
   "cell_type": "markdown",
   "id": "17d1cbc5",
   "metadata": {
    "papermill": {
     "duration": 0.030387,
     "end_time": "2021-11-16T17:08:33.193131",
     "exception": false,
     "start_time": "2021-11-16T17:08:33.162744",
     "status": "completed"
    },
    "tags": []
   },
   "source": [
    "## Reading Data"
   ]
  },
  {
   "cell_type": "code",
   "execution_count": 2,
   "id": "7b2c01a4",
   "metadata": {
    "execution": {
     "iopub.execute_input": "2021-11-16T17:08:33.261726Z",
     "iopub.status.busy": "2021-11-16T17:08:33.260845Z",
     "iopub.status.idle": "2021-11-16T17:08:39.164491Z",
     "shell.execute_reply": "2021-11-16T17:08:39.163977Z",
     "shell.execute_reply.started": "2021-11-16T14:06:18.582561Z"
    },
    "papermill": {
     "duration": 5.940572,
     "end_time": "2021-11-16T17:08:39.164618",
     "exception": false,
     "start_time": "2021-11-16T17:08:33.224046",
     "status": "completed"
    },
    "tags": []
   },
   "outputs": [],
   "source": [
    "import pandas as pd\n",
    "import numpy as np\n",
    "import tensorflow as tf\n",
    "import tensorflow_hub as hub\n",
    "from sklearn.model_selection import train_test_split\n",
    "from tensorflow.keras.layers import Layer, Input, LSTM, Embedding, Dense\n",
    "from tensorflow.keras.models import Model\n",
    "import matplotlib.pyplot as plt\n",
    "import unicodedata\n",
    "import re\n",
    "import time"
   ]
  },
  {
   "cell_type": "code",
   "execution_count": 3,
   "id": "9e5a6816",
   "metadata": {
    "execution": {
     "iopub.execute_input": "2021-11-16T17:08:39.232429Z",
     "iopub.status.busy": "2021-11-16T17:08:39.228797Z",
     "iopub.status.idle": "2021-11-16T17:08:39.234298Z",
     "shell.execute_reply": "2021-11-16T17:08:39.234704Z",
     "shell.execute_reply.started": "2021-11-16T14:06:21.168823Z"
    },
    "papermill": {
     "duration": 0.039256,
     "end_time": "2021-11-16T17:08:39.234829",
     "exception": false,
     "start_time": "2021-11-16T17:08:39.195573",
     "status": "completed"
    },
    "tags": []
   },
   "outputs": [],
   "source": [
    "# Converts the unicode file to ascii\n",
    "def unicode_to_ascii(s):\n",
    "    return ''.join(c for c in unicodedata.normalize('NFD', s)\n",
    "                 if unicodedata.category(c) != 'Mn')\n",
    "\n",
    "\n",
    "def preprocess_sentence(w):\n",
    "    w = unicode_to_ascii(w.lower().strip())\n",
    "\n",
    "    w = re.sub(r\"([?.!,¿])\", r\" \\1 \", w)\n",
    "    w = re.sub(r'[\" \"]+', \" \", w)\n",
    "    w = re.sub(r\"[^a-zA-Z?.!,¿]+\", \" \", w)\n",
    "    w = w.strip()\n",
    "    return w"
   ]
  },
  {
   "cell_type": "code",
   "execution_count": 4,
   "id": "649ca16d",
   "metadata": {
    "execution": {
     "iopub.execute_input": "2021-11-16T17:08:39.305195Z",
     "iopub.status.busy": "2021-11-16T17:08:39.304625Z",
     "iopub.status.idle": "2021-11-16T17:08:42.218495Z",
     "shell.execute_reply": "2021-11-16T17:08:42.217956Z",
     "shell.execute_reply.started": "2021-11-16T14:06:21.179114Z"
    },
    "papermill": {
     "duration": 2.953186,
     "end_time": "2021-11-16T17:08:42.218619",
     "exception": false,
     "start_time": "2021-11-16T17:08:39.265433",
     "status": "completed"
    },
    "tags": []
   },
   "outputs": [],
   "source": [
    "NUM_EXAMPLES = 12000\n",
    "\n",
    "id_strings_array = np.array([], dtype='object')\n",
    "with open('/kaggle/input/iwslt17/IWSLT17.train.en-id.id') as my_file:\n",
    "    for line in my_file.readlines():\n",
    "        if len(id_strings_array) < NUM_EXAMPLES:\n",
    "            id_strings_array = np.append(id_strings_array, line)\n",
    "        else:\n",
    "            break\n",
    "    id_strings_array = np.array([line.rstrip() for line in id_strings_array], dtype='object')\n",
    "\n",
    "en_strings_array = np.array([], dtype='object')\n",
    "with open('/kaggle/input/iwslt17/IWSLT17.train.en-id.en') as my_file:\n",
    "    for line in my_file.readlines():\n",
    "        if len(en_strings_array) < NUM_EXAMPLES:\n",
    "            en_strings_array = np.append(en_strings_array, line)\n",
    "        else:\n",
    "            break\n",
    "    en_strings_array = np.array([line.rstrip() for line in en_strings_array], dtype='object')\n",
    "\n",
    "df = pd.DataFrame({'english': en_strings_array,'indonesia': id_strings_array})\n",
    "\n",
    "df['indonesia'] = df.apply(lambda row: \"<start> \" + preprocess_sentence(row['indonesia']) + \" <end>\", axis=1)\n",
    "df['english'] = df.apply(lambda row: preprocess_sentence(row['english']), axis=1)"
   ]
  },
  {
   "cell_type": "code",
   "execution_count": 5,
   "id": "2583c87a",
   "metadata": {
    "execution": {
     "iopub.execute_input": "2021-11-16T17:08:42.285817Z",
     "iopub.status.busy": "2021-11-16T17:08:42.281789Z",
     "iopub.status.idle": "2021-11-16T17:08:42.444793Z",
     "shell.execute_reply": "2021-11-16T17:08:42.444309Z",
     "shell.execute_reply.started": "2021-11-16T14:06:24.325046Z"
    },
    "papermill": {
     "duration": 0.195595,
     "end_time": "2021-11-16T17:08:42.444974",
     "exception": false,
     "start_time": "2021-11-16T17:08:42.249379",
     "status": "completed"
    },
    "tags": []
   },
   "outputs": [
    {
     "data": {
      "text/html": [
       "<div>\n",
       "<style scoped>\n",
       "    .dataframe tbody tr th:only-of-type {\n",
       "        vertical-align: middle;\n",
       "    }\n",
       "\n",
       "    .dataframe tbody tr th {\n",
       "        vertical-align: top;\n",
       "    }\n",
       "\n",
       "    .dataframe thead th {\n",
       "        text-align: right;\n",
       "    }\n",
       "</style>\n",
       "<table border=\"1\" class=\"dataframe\">\n",
       "  <thead>\n",
       "    <tr style=\"text-align: right;\">\n",
       "      <th></th>\n",
       "      <th>english</th>\n",
       "      <th>indonesia</th>\n",
       "    </tr>\n",
       "  </thead>\n",
       "  <tbody>\n",
       "    <tr>\n",
       "      <th>0</th>\n",
       "      <td>thank you so much , chris . and it s truly a g...</td>\n",
       "      <td>&lt;start&gt; terima kasih banyak , chris . dan adal...</td>\n",
       "    </tr>\n",
       "    <tr>\n",
       "      <th>1</th>\n",
       "      <td>i have been blown away by this conference , an...</td>\n",
       "      <td>&lt;start&gt; saya terharu sekali oleh konferensi in...</td>\n",
       "    </tr>\n",
       "    <tr>\n",
       "      <th>2</th>\n",
       "      <td>and i say that sincerely , partly because mock...</td>\n",
       "      <td>&lt;start&gt; dan saya katakan itu dari dalam hati s...</td>\n",
       "    </tr>\n",
       "    <tr>\n",
       "      <th>3</th>\n",
       "      <td>i ll tell you one quick story to illustrate wh...</td>\n",
       "      <td>&lt;start&gt; tepuk tangan biar saya ceritakan sebua...</td>\n",
       "    </tr>\n",
       "    <tr>\n",
       "      <th>4</th>\n",
       "      <td>it s a true story every bit of this is true .</td>\n",
       "      <td>&lt;start&gt; ini adalah cerita yang benar benar ter...</td>\n",
       "    </tr>\n",
       "  </tbody>\n",
       "</table>\n",
       "</div>"
      ],
      "text/plain": [
       "                                             english  \\\n",
       "0  thank you so much , chris . and it s truly a g...   \n",
       "1  i have been blown away by this conference , an...   \n",
       "2  and i say that sincerely , partly because mock...   \n",
       "3  i ll tell you one quick story to illustrate wh...   \n",
       "4      it s a true story every bit of this is true .   \n",
       "\n",
       "                                           indonesia  \n",
       "0  <start> terima kasih banyak , chris . dan adal...  \n",
       "1  <start> saya terharu sekali oleh konferensi in...  \n",
       "2  <start> dan saya katakan itu dari dalam hati s...  \n",
       "3  <start> tepuk tangan biar saya ceritakan sebua...  \n",
       "4  <start> ini adalah cerita yang benar benar ter...  "
      ]
     },
     "execution_count": 5,
     "metadata": {},
     "output_type": "execute_result"
    }
   ],
   "source": [
    "df.head()"
   ]
  },
  {
   "cell_type": "code",
   "execution_count": 6,
   "id": "76c84680",
   "metadata": {
    "execution": {
     "iopub.execute_input": "2021-11-16T17:08:42.540021Z",
     "iopub.status.busy": "2021-11-16T17:08:42.529755Z",
     "iopub.status.idle": "2021-11-16T17:08:42.606848Z",
     "shell.execute_reply": "2021-11-16T17:08:42.606052Z",
     "shell.execute_reply.started": "2021-11-16T14:06:24.341888Z"
    },
    "papermill": {
     "duration": 0.130624,
     "end_time": "2021-11-16T17:08:42.606989",
     "exception": false,
     "start_time": "2021-11-16T17:08:42.476365",
     "status": "completed"
    },
    "tags": []
   },
   "outputs": [],
   "source": [
    "### Get English and Indonesia Vocabulary\n",
    "all_eng_words=set()\n",
    "for eng in df['english']:\n",
    "    for word in eng.split():\n",
    "        if word not in all_eng_words:\n",
    "            all_eng_words.add(word)\n",
    "\n",
    "all_ind_words=set()\n",
    "for ind in df['indonesia']:\n",
    "    for word in ind.split():\n",
    "        if word not in all_ind_words:\n",
    "            all_ind_words.add(word)"
   ]
  },
  {
   "cell_type": "code",
   "execution_count": 7,
   "id": "cfbbc501",
   "metadata": {
    "execution": {
     "iopub.execute_input": "2021-11-16T17:08:42.674257Z",
     "iopub.status.busy": "2021-11-16T17:08:42.673126Z",
     "iopub.status.idle": "2021-11-16T17:08:42.676198Z",
     "shell.execute_reply": "2021-11-16T17:08:42.676607Z",
     "shell.execute_reply.started": "2021-11-16T14:06:24.644233Z"
    },
    "papermill": {
     "duration": 0.038981,
     "end_time": "2021-11-16T17:08:42.676733",
     "exception": false,
     "start_time": "2021-11-16T17:08:42.637752",
     "status": "completed"
    },
    "tags": []
   },
   "outputs": [
    {
     "data": {
      "text/plain": [
       "12989"
      ]
     },
     "execution_count": 7,
     "metadata": {},
     "output_type": "execute_result"
    }
   ],
   "source": [
    "len(all_eng_words)"
   ]
  },
  {
   "cell_type": "code",
   "execution_count": 8,
   "id": "1489f21f",
   "metadata": {
    "execution": {
     "iopub.execute_input": "2021-11-16T17:08:42.742560Z",
     "iopub.status.busy": "2021-11-16T17:08:42.741628Z",
     "iopub.status.idle": "2021-11-16T17:08:42.746048Z",
     "shell.execute_reply": "2021-11-16T17:08:42.746477Z",
     "shell.execute_reply.started": "2021-11-16T14:06:24.652917Z"
    },
    "papermill": {
     "duration": 0.038869,
     "end_time": "2021-11-16T17:08:42.746602",
     "exception": false,
     "start_time": "2021-11-16T17:08:42.707733",
     "status": "completed"
    },
    "tags": []
   },
   "outputs": [
    {
     "data": {
      "text/plain": [
       "12255"
      ]
     },
     "execution_count": 8,
     "metadata": {},
     "output_type": "execute_result"
    }
   ],
   "source": [
    "len(all_ind_words)"
   ]
  },
  {
   "cell_type": "code",
   "execution_count": 9,
   "id": "792b8f34",
   "metadata": {
    "execution": {
     "iopub.execute_input": "2021-11-16T17:08:42.856496Z",
     "iopub.status.busy": "2021-11-16T17:08:42.854815Z",
     "iopub.status.idle": "2021-11-16T17:08:42.857123Z",
     "shell.execute_reply": "2021-11-16T17:08:42.857547Z",
     "shell.execute_reply.started": "2021-11-16T14:06:24.664169Z"
    },
    "papermill": {
     "duration": 0.079559,
     "end_time": "2021-11-16T17:08:42.857687",
     "exception": false,
     "start_time": "2021-11-16T17:08:42.778128",
     "status": "completed"
    },
    "tags": []
   },
   "outputs": [],
   "source": [
    "df['length_eng_sentence']=df['english'].apply(lambda x:len(x.split(\" \")))\n",
    "df['length_ind_sentence']=df['indonesia'].apply(lambda x:len(x.split(\" \")))"
   ]
  },
  {
   "cell_type": "code",
   "execution_count": 10,
   "id": "98ba4452",
   "metadata": {
    "execution": {
     "iopub.execute_input": "2021-11-16T17:08:42.935784Z",
     "iopub.status.busy": "2021-11-16T17:08:42.935254Z",
     "iopub.status.idle": "2021-11-16T17:08:42.939644Z",
     "shell.execute_reply": "2021-11-16T17:08:42.940065Z",
     "shell.execute_reply.started": "2021-11-16T14:06:24.723779Z"
    },
    "papermill": {
     "duration": 0.050839,
     "end_time": "2021-11-16T17:08:42.940206",
     "exception": false,
     "start_time": "2021-11-16T17:08:42.889367",
     "status": "completed"
    },
    "tags": []
   },
   "outputs": [
    {
     "data": {
      "text/html": [
       "<div>\n",
       "<style scoped>\n",
       "    .dataframe tbody tr th:only-of-type {\n",
       "        vertical-align: middle;\n",
       "    }\n",
       "\n",
       "    .dataframe tbody tr th {\n",
       "        vertical-align: top;\n",
       "    }\n",
       "\n",
       "    .dataframe thead th {\n",
       "        text-align: right;\n",
       "    }\n",
       "</style>\n",
       "<table border=\"1\" class=\"dataframe\">\n",
       "  <thead>\n",
       "    <tr style=\"text-align: right;\">\n",
       "      <th></th>\n",
       "      <th>english</th>\n",
       "      <th>indonesia</th>\n",
       "      <th>length_eng_sentence</th>\n",
       "      <th>length_ind_sentence</th>\n",
       "    </tr>\n",
       "  </thead>\n",
       "  <tbody>\n",
       "    <tr>\n",
       "      <th>0</th>\n",
       "      <td>thank you so much , chris . and it s truly a g...</td>\n",
       "      <td>&lt;start&gt; terima kasih banyak , chris . dan adal...</td>\n",
       "      <td>29</td>\n",
       "      <td>32</td>\n",
       "    </tr>\n",
       "    <tr>\n",
       "      <th>1</th>\n",
       "      <td>i have been blown away by this conference , an...</td>\n",
       "      <td>&lt;start&gt; saya terharu sekali oleh konferensi in...</td>\n",
       "      <td>32</td>\n",
       "      <td>29</td>\n",
       "    </tr>\n",
       "    <tr>\n",
       "      <th>2</th>\n",
       "      <td>and i say that sincerely , partly because mock...</td>\n",
       "      <td>&lt;start&gt; dan saya katakan itu dari dalam hati s...</td>\n",
       "      <td>46</td>\n",
       "      <td>46</td>\n",
       "    </tr>\n",
       "    <tr>\n",
       "      <th>3</th>\n",
       "      <td>i ll tell you one quick story to illustrate wh...</td>\n",
       "      <td>&lt;start&gt; tepuk tangan biar saya ceritakan sebua...</td>\n",
       "      <td>17</td>\n",
       "      <td>19</td>\n",
       "    </tr>\n",
       "    <tr>\n",
       "      <th>4</th>\n",
       "      <td>it s a true story every bit of this is true .</td>\n",
       "      <td>&lt;start&gt; ini adalah cerita yang benar benar ter...</td>\n",
       "      <td>12</td>\n",
       "      <td>15</td>\n",
       "    </tr>\n",
       "  </tbody>\n",
       "</table>\n",
       "</div>"
      ],
      "text/plain": [
       "                                             english  \\\n",
       "0  thank you so much , chris . and it s truly a g...   \n",
       "1  i have been blown away by this conference , an...   \n",
       "2  and i say that sincerely , partly because mock...   \n",
       "3  i ll tell you one quick story to illustrate wh...   \n",
       "4      it s a true story every bit of this is true .   \n",
       "\n",
       "                                           indonesia  length_eng_sentence  \\\n",
       "0  <start> terima kasih banyak , chris . dan adal...                   29   \n",
       "1  <start> saya terharu sekali oleh konferensi in...                   32   \n",
       "2  <start> dan saya katakan itu dari dalam hati s...                   46   \n",
       "3  <start> tepuk tangan biar saya ceritakan sebua...                   17   \n",
       "4  <start> ini adalah cerita yang benar benar ter...                   12   \n",
       "\n",
       "   length_ind_sentence  \n",
       "0                   32  \n",
       "1                   29  \n",
       "2                   46  \n",
       "3                   19  \n",
       "4                   15  "
      ]
     },
     "execution_count": 10,
     "metadata": {},
     "output_type": "execute_result"
    }
   ],
   "source": [
    "df.head()"
   ]
  },
  {
   "cell_type": "code",
   "execution_count": 11,
   "id": "f86d61b7",
   "metadata": {
    "execution": {
     "iopub.execute_input": "2021-11-16T17:08:43.016232Z",
     "iopub.status.busy": "2021-11-16T17:08:43.014500Z",
     "iopub.status.idle": "2021-11-16T17:08:43.018781Z",
     "shell.execute_reply": "2021-11-16T17:08:43.018128Z",
     "shell.execute_reply.started": "2021-11-16T14:06:24.738777Z"
    },
    "papermill": {
     "duration": 0.04678,
     "end_time": "2021-11-16T17:08:43.018961",
     "exception": false,
     "start_time": "2021-11-16T17:08:42.972181",
     "status": "completed"
    },
    "tags": []
   },
   "outputs": [
    {
     "name": "stdout",
     "output_type": "stream",
     "text": [
      "maximum length of Indonesia Sentence  88\n",
      "maximum length of English Sentence  85\n"
     ]
    }
   ],
   "source": [
    "print(\"maximum length of Indonesia Sentence \",max(df['length_ind_sentence']))\n",
    "print(\"maximum length of English Sentence \",max(df['length_eng_sentence']))"
   ]
  },
  {
   "cell_type": "code",
   "execution_count": 12,
   "id": "e4cbc9ac",
   "metadata": {
    "execution": {
     "iopub.execute_input": "2021-11-16T17:08:43.136274Z",
     "iopub.status.busy": "2021-11-16T17:08:43.135433Z",
     "iopub.status.idle": "2021-11-16T17:08:43.138016Z",
     "shell.execute_reply": "2021-11-16T17:08:43.137536Z",
     "shell.execute_reply.started": "2021-11-16T14:06:24.755101Z"
    },
    "papermill": {
     "duration": 0.041195,
     "end_time": "2021-11-16T17:08:43.138160",
     "exception": false,
     "start_time": "2021-11-16T17:08:43.096965",
     "status": "completed"
    },
    "tags": []
   },
   "outputs": [],
   "source": [
    "max_length_src=max(df['length_eng_sentence'])\n",
    "max_length_tar=max(df['length_ind_sentence'])"
   ]
  },
  {
   "cell_type": "code",
   "execution_count": 13,
   "id": "f3e64f8c",
   "metadata": {
    "execution": {
     "iopub.execute_input": "2021-11-16T17:08:43.217539Z",
     "iopub.status.busy": "2021-11-16T17:08:43.216861Z",
     "iopub.status.idle": "2021-11-16T17:08:43.219515Z",
     "shell.execute_reply": "2021-11-16T17:08:43.220049Z",
     "shell.execute_reply.started": "2021-11-16T14:06:24.768271Z"
    },
    "papermill": {
     "duration": 0.049934,
     "end_time": "2021-11-16T17:08:43.220179",
     "exception": false,
     "start_time": "2021-11-16T17:08:43.170245",
     "status": "completed"
    },
    "tags": []
   },
   "outputs": [
    {
     "data": {
      "text/plain": [
       "(12989, 12255)"
      ]
     },
     "execution_count": 13,
     "metadata": {},
     "output_type": "execute_result"
    }
   ],
   "source": [
    "input_words = sorted(list(all_eng_words))\n",
    "target_words = sorted(list(all_ind_words))\n",
    "num_encoder_tokens = len(all_eng_words)\n",
    "num_decoder_tokens = len(all_ind_words)\n",
    "num_encoder_tokens, num_decoder_tokens"
   ]
  },
  {
   "cell_type": "code",
   "execution_count": 14,
   "id": "7619812a",
   "metadata": {
    "execution": {
     "iopub.execute_input": "2021-11-16T17:08:43.288996Z",
     "iopub.status.busy": "2021-11-16T17:08:43.288460Z",
     "iopub.status.idle": "2021-11-16T17:08:43.291892Z",
     "shell.execute_reply": "2021-11-16T17:08:43.291494Z",
     "shell.execute_reply.started": "2021-11-16T14:06:24.798524Z"
    },
    "papermill": {
     "duration": 0.039439,
     "end_time": "2021-11-16T17:08:43.292028",
     "exception": false,
     "start_time": "2021-11-16T17:08:43.252589",
     "status": "completed"
    },
    "tags": []
   },
   "outputs": [],
   "source": [
    "num_decoder_tokens += 1 #for zero padding"
   ]
  },
  {
   "cell_type": "code",
   "execution_count": 15,
   "id": "95ca3662",
   "metadata": {
    "execution": {
     "iopub.execute_input": "2021-11-16T17:08:43.375903Z",
     "iopub.status.busy": "2021-11-16T17:08:43.372497Z",
     "iopub.status.idle": "2021-11-16T17:08:43.381292Z",
     "shell.execute_reply": "2021-11-16T17:08:43.381671Z",
     "shell.execute_reply.started": "2021-11-16T14:06:24.803905Z"
    },
    "papermill": {
     "duration": 0.057377,
     "end_time": "2021-11-16T17:08:43.381812",
     "exception": false,
     "start_time": "2021-11-16T17:08:43.324435",
     "status": "completed"
    },
    "tags": []
   },
   "outputs": [],
   "source": [
    "import pickle\n",
    "\n",
    "input_token_index = dict([(word, i+1) for i, word in enumerate(input_words)])\n",
    "target_token_index = dict([(word, i+1) for i, word in enumerate(target_words)])\n",
    "\n",
    "with open(\"input_token_index.pickle\", 'wb') as output_file:\n",
    "    pickle.dump(input_token_index, output_file)\n",
    "    \n",
    "with open(\"target_token_index.pickle\", 'wb') as output_file:\n",
    "    pickle.dump(target_token_index, output_file)"
   ]
  },
  {
   "cell_type": "code",
   "execution_count": 16,
   "id": "24a6426a",
   "metadata": {
    "execution": {
     "iopub.execute_input": "2021-11-16T17:08:43.458105Z",
     "iopub.status.busy": "2021-11-16T17:08:43.457289Z",
     "iopub.status.idle": "2021-11-16T17:08:43.467426Z",
     "shell.execute_reply": "2021-11-16T17:08:43.466972Z",
     "shell.execute_reply.started": "2021-11-16T14:06:24.830585Z"
    },
    "papermill": {
     "duration": 0.053307,
     "end_time": "2021-11-16T17:08:43.467538",
     "exception": false,
     "start_time": "2021-11-16T17:08:43.414231",
     "status": "completed"
    },
    "tags": []
   },
   "outputs": [],
   "source": [
    "reverse_input_char_index = dict((i, word) for word, i in input_token_index.items())\n",
    "reverse_target_char_index = dict((i, word) for word, i in target_token_index.items())\n",
    "\n",
    "with open(\"reverse_input_char_index.pickle\", 'wb') as output_file:\n",
    "    pickle.dump(reverse_input_char_index, output_file)\n",
    "    \n",
    "with open(\"reverse_target_char_index.pickle\", 'wb') as output_file:\n",
    "    pickle.dump(reverse_target_char_index, output_file)"
   ]
  },
  {
   "cell_type": "markdown",
   "id": "13d08fc9",
   "metadata": {
    "papermill": {
     "duration": 0.031915,
     "end_time": "2021-11-16T17:08:43.531882",
     "exception": false,
     "start_time": "2021-11-16T17:08:43.499967",
     "status": "completed"
    },
    "tags": []
   },
   "source": [
    "### Split the data into train and test"
   ]
  },
  {
   "cell_type": "code",
   "execution_count": 17,
   "id": "beb9ff9a",
   "metadata": {
    "execution": {
     "iopub.execute_input": "2021-11-16T17:08:43.605104Z",
     "iopub.status.busy": "2021-11-16T17:08:43.604528Z",
     "iopub.status.idle": "2021-11-16T17:08:43.612679Z",
     "shell.execute_reply": "2021-11-16T17:08:43.613125Z",
     "shell.execute_reply.started": "2021-11-16T14:06:24.850067Z"
    },
    "papermill": {
     "duration": 0.046528,
     "end_time": "2021-11-16T17:08:43.613256",
     "exception": false,
     "start_time": "2021-11-16T17:08:43.566728",
     "status": "completed"
    },
    "tags": []
   },
   "outputs": [
    {
     "data": {
      "text/plain": [
       "((9600,), (2400,))"
      ]
     },
     "execution_count": 17,
     "metadata": {},
     "output_type": "execute_result"
    }
   ],
   "source": [
    "X, y = df['english'], df['indonesia']\n",
    "X_train, X_test, y_train, y_test = train_test_split(X, y, test_size = 0.2,random_state=42)\n",
    "X_train.shape, X_test.shape"
   ]
  },
  {
   "cell_type": "markdown",
   "id": "a36cf476",
   "metadata": {
    "papermill": {
     "duration": 0.038024,
     "end_time": "2021-11-16T17:08:43.687530",
     "exception": false,
     "start_time": "2021-11-16T17:08:43.649506",
     "status": "completed"
    },
    "tags": []
   },
   "source": [
    "Save the data for other model"
   ]
  },
  {
   "cell_type": "code",
   "execution_count": 18,
   "id": "09c5120e",
   "metadata": {
    "execution": {
     "iopub.execute_input": "2021-11-16T17:08:43.768188Z",
     "iopub.status.busy": "2021-11-16T17:08:43.767300Z",
     "iopub.status.idle": "2021-11-16T17:08:43.779201Z",
     "shell.execute_reply": "2021-11-16T17:08:43.779620Z",
     "shell.execute_reply.started": "2021-11-16T14:06:24.87172Z"
    },
    "papermill": {
     "duration": 0.054725,
     "end_time": "2021-11-16T17:08:43.779764",
     "exception": false,
     "start_time": "2021-11-16T17:08:43.725039",
     "status": "completed"
    },
    "tags": []
   },
   "outputs": [],
   "source": [
    "X_train.to_pickle('X_train.pkl')\n",
    "X_test.to_pickle('X_test.pkl')\n",
    "y_train.to_pickle('y_train.pkl')\n",
    "y_test.to_pickle('y_test.pkl')"
   ]
  },
  {
   "cell_type": "code",
   "execution_count": 19,
   "id": "ef22f8e1",
   "metadata": {
    "execution": {
     "iopub.execute_input": "2021-11-16T17:08:43.856739Z",
     "iopub.status.busy": "2021-11-16T17:08:43.855863Z",
     "iopub.status.idle": "2021-11-16T17:08:43.858368Z",
     "shell.execute_reply": "2021-11-16T17:08:43.857888Z",
     "shell.execute_reply.started": "2021-11-16T14:06:24.894401Z"
    },
    "papermill": {
     "duration": 0.044399,
     "end_time": "2021-11-16T17:08:43.858476",
     "exception": false,
     "start_time": "2021-11-16T17:08:43.814077",
     "status": "completed"
    },
    "tags": []
   },
   "outputs": [],
   "source": [
    "def generate_batch(X = X_train, y = y_train, batch_size = 128):\n",
    "    ''' Generate a batch of data '''\n",
    "    while True:\n",
    "        for j in range(0, len(X), batch_size):\n",
    "            encoder_input_data = np.zeros((batch_size, max_length_src),dtype='float32')\n",
    "            decoder_input_data = np.zeros((batch_size, max_length_tar),dtype='float32')\n",
    "            decoder_target_data = np.zeros((batch_size, max_length_tar, num_decoder_tokens),dtype='float32')\n",
    "            for i, (input_text, target_text) in enumerate(zip(X[j:j+batch_size], y[j:j+batch_size])):\n",
    "                for t, word in enumerate(input_text.split()):\n",
    "                    encoder_input_data[i, t] = input_token_index[word] # encoder input seq\n",
    "                for t, word in enumerate(target_text.split()):\n",
    "                    if t<len(target_text.split())-1:\n",
    "                        decoder_input_data[i, t] = target_token_index[word] # decoder input seq\n",
    "                    if t>0:\n",
    "                        # decoder target sequence (one hot encoded)\n",
    "                        # does not include the START_ token\n",
    "                        # Offset by one timestep\n",
    "                        decoder_target_data[i, t - 1, target_token_index[word]] = 1.\n",
    "            yield([encoder_input_data, decoder_input_data], decoder_target_data)"
   ]
  },
  {
   "cell_type": "markdown",
   "id": "2c072ef4",
   "metadata": {
    "papermill": {
     "duration": 0.03227,
     "end_time": "2021-11-16T17:08:43.923519",
     "exception": false,
     "start_time": "2021-11-16T17:08:43.891249",
     "status": "completed"
    },
    "tags": []
   },
   "source": [
    "### Encoder-Decoder Architecture"
   ]
  },
  {
   "cell_type": "code",
   "execution_count": 20,
   "id": "bb3d4c00",
   "metadata": {
    "execution": {
     "iopub.execute_input": "2021-11-16T17:08:43.994628Z",
     "iopub.status.busy": "2021-11-16T17:08:43.993791Z",
     "iopub.status.idle": "2021-11-16T17:08:43.996267Z",
     "shell.execute_reply": "2021-11-16T17:08:43.995820Z",
     "shell.execute_reply.started": "2021-11-16T14:06:24.908016Z"
    },
    "papermill": {
     "duration": 0.038551,
     "end_time": "2021-11-16T17:08:43.996379",
     "exception": false,
     "start_time": "2021-11-16T17:08:43.957828",
     "status": "completed"
    },
    "tags": []
   },
   "outputs": [],
   "source": [
    "latent_dim=300"
   ]
  },
  {
   "cell_type": "code",
   "execution_count": 21,
   "id": "5c6bf1c0",
   "metadata": {
    "execution": {
     "iopub.execute_input": "2021-11-16T17:08:44.066118Z",
     "iopub.status.busy": "2021-11-16T17:08:44.064725Z",
     "iopub.status.idle": "2021-11-16T17:08:47.282196Z",
     "shell.execute_reply": "2021-11-16T17:08:47.281670Z",
     "shell.execute_reply.started": "2021-11-16T14:06:24.922765Z"
    },
    "papermill": {
     "duration": 3.253534,
     "end_time": "2021-11-16T17:08:47.282343",
     "exception": false,
     "start_time": "2021-11-16T17:08:44.028809",
     "status": "completed"
    },
    "tags": []
   },
   "outputs": [
    {
     "name": "stderr",
     "output_type": "stream",
     "text": [
      "2021-11-16 17:08:44.148034: I tensorflow/stream_executor/cuda/cuda_gpu_executor.cc:937] successful NUMA node read from SysFS had negative value (-1), but there must be at least one NUMA node, so returning NUMA node zero\n",
      "2021-11-16 17:08:44.250399: I tensorflow/stream_executor/cuda/cuda_gpu_executor.cc:937] successful NUMA node read from SysFS had negative value (-1), but there must be at least one NUMA node, so returning NUMA node zero\n",
      "2021-11-16 17:08:44.251187: I tensorflow/stream_executor/cuda/cuda_gpu_executor.cc:937] successful NUMA node read from SysFS had negative value (-1), but there must be at least one NUMA node, so returning NUMA node zero\n",
      "2021-11-16 17:08:44.253032: I tensorflow/core/platform/cpu_feature_guard.cc:142] This TensorFlow binary is optimized with oneAPI Deep Neural Network Library (oneDNN) to use the following CPU instructions in performance-critical operations:  AVX2 AVX512F FMA\n",
      "To enable them in other operations, rebuild TensorFlow with the appropriate compiler flags.\n",
      "2021-11-16 17:08:44.254197: I tensorflow/stream_executor/cuda/cuda_gpu_executor.cc:937] successful NUMA node read from SysFS had negative value (-1), but there must be at least one NUMA node, so returning NUMA node zero\n",
      "2021-11-16 17:08:44.254870: I tensorflow/stream_executor/cuda/cuda_gpu_executor.cc:937] successful NUMA node read from SysFS had negative value (-1), but there must be at least one NUMA node, so returning NUMA node zero\n",
      "2021-11-16 17:08:44.255540: I tensorflow/stream_executor/cuda/cuda_gpu_executor.cc:937] successful NUMA node read from SysFS had negative value (-1), but there must be at least one NUMA node, so returning NUMA node zero\n",
      "2021-11-16 17:08:46.172189: I tensorflow/stream_executor/cuda/cuda_gpu_executor.cc:937] successful NUMA node read from SysFS had negative value (-1), but there must be at least one NUMA node, so returning NUMA node zero\n",
      "2021-11-16 17:08:46.173056: I tensorflow/stream_executor/cuda/cuda_gpu_executor.cc:937] successful NUMA node read from SysFS had negative value (-1), but there must be at least one NUMA node, so returning NUMA node zero\n",
      "2021-11-16 17:08:46.173728: I tensorflow/stream_executor/cuda/cuda_gpu_executor.cc:937] successful NUMA node read from SysFS had negative value (-1), but there must be at least one NUMA node, so returning NUMA node zero\n",
      "2021-11-16 17:08:46.174320: I tensorflow/core/common_runtime/gpu/gpu_device.cc:1510] Created device /job:localhost/replica:0/task:0/device:GPU:0 with 15403 MB memory:  -> device: 0, name: Tesla P100-PCIE-16GB, pci bus id: 0000:00:04.0, compute capability: 6.0\n"
     ]
    }
   ],
   "source": [
    "# Encoder\n",
    "encoder_inputs = Input(shape=(None,))\n",
    "enc_emb =  Embedding(num_encoder_tokens, latent_dim, mask_zero = True)(encoder_inputs)\n",
    "encoder_lstm = LSTM(latent_dim, return_state=True)\n",
    "encoder_outputs, state_h, state_c = encoder_lstm(enc_emb)\n",
    "# We discard `encoder_outputs` and only keep the states.\n",
    "encoder_states = [state_h, state_c]"
   ]
  },
  {
   "cell_type": "code",
   "execution_count": 22,
   "id": "f374aeeb",
   "metadata": {
    "execution": {
     "iopub.execute_input": "2021-11-16T17:08:47.359930Z",
     "iopub.status.busy": "2021-11-16T17:08:47.359325Z",
     "iopub.status.idle": "2021-11-16T17:08:48.125432Z",
     "shell.execute_reply": "2021-11-16T17:08:48.124887Z",
     "shell.execute_reply.started": "2021-11-16T14:06:25.948417Z"
    },
    "papermill": {
     "duration": 0.809372,
     "end_time": "2021-11-16T17:08:48.125553",
     "exception": false,
     "start_time": "2021-11-16T17:08:47.316181",
     "status": "completed"
    },
    "tags": []
   },
   "outputs": [],
   "source": [
    "# Set up the decoder, using `encoder_states` as initial state.\n",
    "decoder_inputs = Input(shape=(None,))\n",
    "dec_emb_layer = Embedding(num_decoder_tokens, latent_dim, mask_zero = True)\n",
    "dec_emb = dec_emb_layer(decoder_inputs)\n",
    "# We set up our decoder to return full output sequences,\n",
    "# and to return internal states as well. We don't use the\n",
    "# return states in the training model, but we will use them in inference.\n",
    "decoder_lstm = LSTM(latent_dim, return_sequences=True, return_state=True)\n",
    "decoder_outputs, _, _ = decoder_lstm(dec_emb,\n",
    "                                     initial_state=encoder_states)\n",
    "decoder_dense = Dense(num_decoder_tokens, activation='softmax')\n",
    "decoder_outputs = decoder_dense(decoder_outputs)\n",
    "\n",
    "# Define the model that will turn\n",
    "# `encoder_input_data` & `decoder_input_data` into `decoder_target_data`\n",
    "model = Model([encoder_inputs, decoder_inputs], decoder_outputs)"
   ]
  },
  {
   "cell_type": "code",
   "execution_count": 23,
   "id": "607ccc80",
   "metadata": {
    "execution": {
     "iopub.execute_input": "2021-11-16T17:08:48.204963Z",
     "iopub.status.busy": "2021-11-16T17:08:48.204090Z",
     "iopub.status.idle": "2021-11-16T17:08:48.210634Z",
     "shell.execute_reply": "2021-11-16T17:08:48.211187Z",
     "shell.execute_reply.started": "2021-11-16T14:06:26.952265Z"
    },
    "papermill": {
     "duration": 0.050733,
     "end_time": "2021-11-16T17:08:48.211334",
     "exception": false,
     "start_time": "2021-11-16T17:08:48.160601",
     "status": "completed"
    },
    "tags": []
   },
   "outputs": [],
   "source": [
    "model.compile(optimizer='rmsprop', loss='categorical_crossentropy')"
   ]
  },
  {
   "cell_type": "code",
   "execution_count": 24,
   "id": "2df7dae4",
   "metadata": {
    "execution": {
     "iopub.execute_input": "2021-11-16T17:08:48.289399Z",
     "iopub.status.busy": "2021-11-16T17:08:48.281786Z",
     "iopub.status.idle": "2021-11-16T17:08:48.292388Z",
     "shell.execute_reply": "2021-11-16T17:08:48.293069Z",
     "shell.execute_reply.started": "2021-11-16T14:06:26.969479Z"
    },
    "papermill": {
     "duration": 0.047994,
     "end_time": "2021-11-16T17:08:48.293259",
     "exception": false,
     "start_time": "2021-11-16T17:08:48.245265",
     "status": "completed"
    },
    "tags": []
   },
   "outputs": [
    {
     "name": "stdout",
     "output_type": "stream",
     "text": [
      "Model: \"model\"\n",
      "__________________________________________________________________________________________________\n",
      "Layer (type)                    Output Shape         Param #     Connected to                     \n",
      "==================================================================================================\n",
      "input_1 (InputLayer)            [(None, None)]       0                                            \n",
      "__________________________________________________________________________________________________\n",
      "input_2 (InputLayer)            [(None, None)]       0                                            \n",
      "__________________________________________________________________________________________________\n",
      "embedding (Embedding)           (None, None, 300)    3896700     input_1[0][0]                    \n",
      "__________________________________________________________________________________________________\n",
      "embedding_1 (Embedding)         (None, None, 300)    3676800     input_2[0][0]                    \n",
      "__________________________________________________________________________________________________\n",
      "lstm (LSTM)                     [(None, 300), (None, 721200      embedding[0][0]                  \n",
      "__________________________________________________________________________________________________\n",
      "lstm_1 (LSTM)                   [(None, None, 300),  721200      embedding_1[0][0]                \n",
      "                                                                 lstm[0][1]                       \n",
      "                                                                 lstm[0][2]                       \n",
      "__________________________________________________________________________________________________\n",
      "dense (Dense)                   (None, None, 12256)  3689056     lstm_1[0][0]                     \n",
      "==================================================================================================\n",
      "Total params: 12,704,956\n",
      "Trainable params: 12,704,956\n",
      "Non-trainable params: 0\n",
      "__________________________________________________________________________________________________\n"
     ]
    }
   ],
   "source": [
    "model.summary()"
   ]
  },
  {
   "cell_type": "code",
   "execution_count": 25,
   "id": "00181000",
   "metadata": {
    "execution": {
     "iopub.execute_input": "2021-11-16T17:08:48.367459Z",
     "iopub.status.busy": "2021-11-16T17:08:48.366639Z",
     "iopub.status.idle": "2021-11-16T17:08:48.369411Z",
     "shell.execute_reply": "2021-11-16T17:08:48.368946Z",
     "shell.execute_reply.started": "2021-11-16T14:06:26.982268Z"
    },
    "papermill": {
     "duration": 0.040894,
     "end_time": "2021-11-16T17:08:48.369521",
     "exception": false,
     "start_time": "2021-11-16T17:08:48.328627",
     "status": "completed"
    },
    "tags": []
   },
   "outputs": [],
   "source": [
    "train_samples = len(X_train)\n",
    "val_samples = len(X_test)\n",
    "batch_size = 128\n",
    "epochs = 20 # Change"
   ]
  },
  {
   "cell_type": "code",
   "execution_count": 26,
   "id": "fb555d87",
   "metadata": {
    "execution": {
     "iopub.execute_input": "2021-11-16T17:08:48.442334Z",
     "iopub.status.busy": "2021-11-16T17:08:48.441582Z",
     "iopub.status.idle": "2021-11-16T17:35:17.375525Z",
     "shell.execute_reply": "2021-11-16T17:35:17.376360Z",
     "shell.execute_reply.started": "2021-11-16T14:12:11.728113Z"
    },
    "papermill": {
     "duration": 1588.973292,
     "end_time": "2021-11-16T17:35:17.376569",
     "exception": false,
     "start_time": "2021-11-16T17:08:48.403277",
     "status": "completed"
    },
    "tags": []
   },
   "outputs": [
    {
     "name": "stderr",
     "output_type": "stream",
     "text": [
      "/opt/conda/lib/python3.7/site-packages/keras/engine/training.py:1972: UserWarning: `Model.fit_generator` is deprecated and will be removed in a future version. Please use `Model.fit`, which supports generators.\n",
      "  warnings.warn('`Model.fit_generator` is deprecated and '\n",
      "2021-11-16 17:08:49.467000: I tensorflow/compiler/mlir/mlir_graph_optimization_pass.cc:185] None of the MLIR Optimization Passes are enabled (registered 2)\n"
     ]
    },
    {
     "name": "stdout",
     "output_type": "stream",
     "text": [
      "Epoch 1/20\n"
     ]
    },
    {
     "name": "stderr",
     "output_type": "stream",
     "text": [
      "2021-11-16 17:08:57.507409: I tensorflow/stream_executor/cuda/cuda_dnn.cc:369] Loaded cuDNN version 8005\n"
     ]
    },
    {
     "name": "stdout",
     "output_type": "stream",
     "text": [
      "75/75 [==============================] - 90s 1s/step - loss: 1.3595 - val_loss: 1.3023\n",
      "Epoch 2/20\n",
      "75/75 [==============================] - 79s 1s/step - loss: 1.2563 - val_loss: 1.2743\n",
      "Epoch 3/20\n",
      "75/75 [==============================] - 78s 1s/step - loss: 1.2172 - val_loss: 1.2477\n",
      "Epoch 4/20\n",
      "75/75 [==============================] - 78s 1s/step - loss: 1.1835 - val_loss: 1.2268\n",
      "Epoch 5/20\n",
      "75/75 [==============================] - 78s 1s/step - loss: 1.1491 - val_loss: 1.2035\n",
      "Epoch 6/20\n",
      "75/75 [==============================] - 78s 1s/step - loss: 1.1153 - val_loss: 1.1864\n",
      "Epoch 7/20\n",
      "75/75 [==============================] - 79s 1s/step - loss: 1.0857 - val_loss: 1.1788\n",
      "Epoch 8/20\n",
      "75/75 [==============================] - 79s 1s/step - loss: 1.0591 - val_loss: 1.1638\n",
      "Epoch 9/20\n",
      "75/75 [==============================] - 78s 1s/step - loss: 1.0324 - val_loss: 1.1560\n",
      "Epoch 10/20\n",
      "75/75 [==============================] - 79s 1s/step - loss: 1.0069 - val_loss: 1.1469\n",
      "Epoch 11/20\n",
      "75/75 [==============================] - 78s 1s/step - loss: 0.9827 - val_loss: 1.1391\n",
      "Epoch 12/20\n",
      "75/75 [==============================] - 79s 1s/step - loss: 0.9591 - val_loss: 1.1356\n",
      "Epoch 13/20\n",
      "75/75 [==============================] - 79s 1s/step - loss: 0.9369 - val_loss: 1.1327\n",
      "Epoch 14/20\n",
      "75/75 [==============================] - 79s 1s/step - loss: 0.9150 - val_loss: 1.1308\n",
      "Epoch 15/20\n",
      "75/75 [==============================] - 79s 1s/step - loss: 0.8939 - val_loss: 1.1296\n",
      "Epoch 16/20\n",
      "75/75 [==============================] - 80s 1s/step - loss: 0.8734 - val_loss: 1.1296\n",
      "Epoch 17/20\n",
      "75/75 [==============================] - 79s 1s/step - loss: 0.8533 - val_loss: 1.1285\n",
      "Epoch 18/20\n",
      "75/75 [==============================] - 79s 1s/step - loss: 0.8334 - val_loss: 1.1295\n",
      "Epoch 19/20\n",
      "75/75 [==============================] - 79s 1s/step - loss: 0.8142 - val_loss: 1.1314\n",
      "Epoch 20/20\n",
      "75/75 [==============================] - 80s 1s/step - loss: 0.7949 - val_loss: 1.1323\n"
     ]
    }
   ],
   "source": [
    "H = model.fit_generator(generator = generate_batch(X_train, y_train, batch_size = batch_size),\n",
    "                        steps_per_epoch = train_samples//batch_size,\n",
    "                        epochs=epochs,\n",
    "                        validation_data = generate_batch(X_test, y_test, batch_size = batch_size),\n",
    "                        validation_steps = val_samples//batch_size)"
   ]
  },
  {
   "cell_type": "code",
   "execution_count": 27,
   "id": "0be90b5e",
   "metadata": {
    "execution": {
     "iopub.execute_input": "2021-11-16T17:35:18.247595Z",
     "iopub.status.busy": "2021-11-16T17:35:18.246744Z",
     "iopub.status.idle": "2021-11-16T17:35:18.531442Z",
     "shell.execute_reply": "2021-11-16T17:35:18.531829Z",
     "shell.execute_reply.started": "2021-11-16T14:09:36.107323Z"
    },
    "papermill": {
     "duration": 0.725685,
     "end_time": "2021-11-16T17:35:18.532001",
     "exception": false,
     "start_time": "2021-11-16T17:35:17.806316",
     "status": "completed"
    },
    "tags": []
   },
   "outputs": [
    {
     "data": {
      "image/png": "[encoded data removed]",
      "text/plain": [
       "<Figure size 432x288 with 1 Axes>"
      ]
     },
     "metadata": {},
     "output_type": "display_data"
    }
   ],
   "source": [
    "N = epochs\n",
    "plt.style.use(\"ggplot\")\n",
    "plt.figure()\n",
    "plt.plot(np.arange(0, N), H.history[\"loss\"], label=\"train_loss\")\n",
    "plt.plot(np.arange(0, N), H.history[\"val_loss\"], label=\"val_loss\")\n",
    "plt.title(\"Training Loss and Accuracy on Dataset\")\n",
    "plt.xlabel(\"Epoch #\")\n",
    "plt.ylabel(\"Loss/Accuracy\")\n",
    "plt.legend(loc=\"lower left\")\n",
    "plt.savefig(\"plot_encoder_decoder_lstm.png\")"
   ]
  },
  {
   "cell_type": "code",
   "execution_count": 28,
   "id": "91c52b0a",
   "metadata": {
    "execution": {
     "iopub.execute_input": "2021-11-16T17:35:19.390371Z",
     "iopub.status.busy": "2021-11-16T17:35:19.389545Z",
     "iopub.status.idle": "2021-11-16T17:35:19.570480Z",
     "shell.execute_reply": "2021-11-16T17:35:19.569567Z",
     "shell.execute_reply.started": "2021-11-16T14:09:36.108909Z"
    },
    "papermill": {
     "duration": 0.614735,
     "end_time": "2021-11-16T17:35:19.570614",
     "exception": false,
     "start_time": "2021-11-16T17:35:18.955879",
     "status": "completed"
    },
    "tags": []
   },
   "outputs": [],
   "source": [
    "model.save('nmt_model_lstm.h5')"
   ]
  },
  {
   "cell_type": "code",
   "execution_count": 29,
   "id": "c6acf8da",
   "metadata": {
    "execution": {
     "iopub.execute_input": "2021-11-16T17:35:20.471283Z",
     "iopub.status.busy": "2021-11-16T17:35:20.470380Z",
     "iopub.status.idle": "2021-11-16T17:35:21.206802Z",
     "shell.execute_reply": "2021-11-16T17:35:21.206262Z",
     "shell.execute_reply.started": "2021-11-16T14:09:36.111038Z"
    },
    "papermill": {
     "duration": 1.19788,
     "end_time": "2021-11-16T17:35:21.206973",
     "exception": false,
     "start_time": "2021-11-16T17:35:20.009093",
     "status": "completed"
    },
    "tags": []
   },
   "outputs": [],
   "source": [
    "# Encode the input sequence to get the \"thought vectors\"\n",
    "encoder_model = Model(encoder_inputs, encoder_states)\n",
    "\n",
    "# Decoder setup\n",
    "# Below tensors will hold the states of the previous time step\n",
    "decoder_state_input_h = Input(shape=(latent_dim,))\n",
    "decoder_state_input_c = Input(shape=(latent_dim,))\n",
    "decoder_states_inputs = [decoder_state_input_h, decoder_state_input_c]\n",
    "\n",
    "dec_emb2= dec_emb_layer(decoder_inputs) # Get the embeddings of the decoder sequence\n",
    "\n",
    "# To predict the next word in the sequence, set the initial states to the states from the previous time step\n",
    "decoder_outputs2, state_h2, state_c2 = decoder_lstm(dec_emb2, initial_state=decoder_states_inputs)\n",
    "decoder_states2 = [state_h2, state_c2]\n",
    "decoder_outputs2 = decoder_dense(decoder_outputs2) # A dense softmax layer to generate prob dist. over the target vocabulary\n",
    "\n",
    "# Final decoder model\n",
    "decoder_model = Model(\n",
    "    [decoder_inputs] + decoder_states_inputs,\n",
    "    [decoder_outputs2] + decoder_states2)"
   ]
  },
  {
   "cell_type": "code",
   "execution_count": 30,
   "id": "bd3b5dda",
   "metadata": {
    "execution": {
     "iopub.execute_input": "2021-11-16T17:35:22.071578Z",
     "iopub.status.busy": "2021-11-16T17:35:22.070610Z",
     "iopub.status.idle": "2021-11-16T17:35:22.155553Z",
     "shell.execute_reply": "2021-11-16T17:35:22.156084Z"
    },
    "papermill": {
     "duration": 0.520068,
     "end_time": "2021-11-16T17:35:22.156275",
     "exception": false,
     "start_time": "2021-11-16T17:35:21.636207",
     "status": "completed"
    },
    "tags": []
   },
   "outputs": [],
   "source": [
    "encoder_model.save('nmt_encoder_model_lstm.h5')\n",
    "decoder_model.save('nmt_decoder_model_lstm.h5')"
   ]
  },
  {
   "cell_type": "code",
   "execution_count": 31,
   "id": "169a912e",
   "metadata": {
    "execution": {
     "iopub.execute_input": "2021-11-16T17:35:23.046189Z",
     "iopub.status.busy": "2021-11-16T17:35:23.045291Z",
     "iopub.status.idle": "2021-11-16T17:35:23.049116Z",
     "shell.execute_reply": "2021-11-16T17:35:23.048637Z",
     "shell.execute_reply.started": "2021-11-16T14:09:36.112762Z"
    },
    "papermill": {
     "duration": 0.442971,
     "end_time": "2021-11-16T17:35:23.049230",
     "exception": false,
     "start_time": "2021-11-16T17:35:22.606259",
     "status": "completed"
    },
    "tags": []
   },
   "outputs": [],
   "source": [
    "def decode_sequence(input_seq):\n",
    "    # Encode the input as state vectors.\n",
    "    states_value = encoder_model.predict(input_seq)\n",
    "    # Generate empty target sequence of length 1.\n",
    "    target_seq = np.zeros((1,1))\n",
    "    # Populate the first character of target sequence with the start character.\n",
    "    target_seq[0, 0] = target_token_index['<start>']\n",
    "\n",
    "    # Sampling loop for a batch of sequences\n",
    "    # (to simplify, here we assume a batch of size 1).\n",
    "    stop_condition = False\n",
    "    decoded_sentence = ''\n",
    "    while not stop_condition:\n",
    "        output_tokens, h, c = decoder_model.predict([target_seq] + states_value)\n",
    "\n",
    "        # Sample a token\n",
    "        sampled_token_index = np.argmax(output_tokens[0, -1, :])\n",
    "        sampled_char = reverse_target_char_index[sampled_token_index]\n",
    "        decoded_sentence += ' '+sampled_char\n",
    "\n",
    "        # Exit condition: either hit max length\n",
    "        # or find stop character.\n",
    "        if (sampled_char == '<end>' or\n",
    "           len(decoded_sentence) > 50):\n",
    "            stop_condition = True\n",
    "\n",
    "        # Update the target sequence (of length 1).\n",
    "        target_seq = np.zeros((1,1))\n",
    "        target_seq[0, 0] = sampled_token_index\n",
    "\n",
    "        # Update states\n",
    "        states_value = [h, c]\n",
    "\n",
    "    return decoded_sentence"
   ]
  },
  {
   "cell_type": "code",
   "execution_count": 32,
   "id": "08a5744c",
   "metadata": {
    "execution": {
     "iopub.execute_input": "2021-11-16T17:35:23.913472Z",
     "iopub.status.busy": "2021-11-16T17:35:23.912566Z",
     "iopub.status.idle": "2021-11-16T17:35:23.915035Z",
     "shell.execute_reply": "2021-11-16T17:35:23.914592Z",
     "shell.execute_reply.started": "2021-11-16T14:09:36.114421Z"
    },
    "papermill": {
     "duration": 0.436235,
     "end_time": "2021-11-16T17:35:23.915156",
     "exception": false,
     "start_time": "2021-11-16T17:35:23.478921",
     "status": "completed"
    },
    "tags": []
   },
   "outputs": [],
   "source": [
    "train_gen = generate_batch(X_train, y_train, batch_size = 1)\n",
    "k=-1"
   ]
  },
  {
   "cell_type": "code",
   "execution_count": 33,
   "id": "c9d3771c",
   "metadata": {
    "execution": {
     "iopub.execute_input": "2021-11-16T17:35:25.068318Z",
     "iopub.status.busy": "2021-11-16T17:35:25.067524Z",
     "iopub.status.idle": "2021-11-16T17:35:27.483728Z",
     "shell.execute_reply": "2021-11-16T17:35:27.483179Z",
     "shell.execute_reply.started": "2021-11-16T14:09:36.116114Z"
    },
    "papermill": {
     "duration": 2.858467,
     "end_time": "2021-11-16T17:35:27.483846",
     "exception": false,
     "start_time": "2021-11-16T17:35:24.625379",
     "status": "completed"
    },
    "tags": []
   },
   "outputs": [
    {
     "name": "stdout",
     "output_type": "stream",
     "text": [
      "Input English sentence: that big brown makes his eyespot very big .\n",
      "Actual Indonesia Translation: corak coklat besar itu membuat matanya terlihat sangat besar\n",
      "Predicted Indonesia Translation:  sebagian besar dari benda ini adalah sebuah \n"
     ]
    }
   ],
   "source": [
    "k+=1\n",
    "(input_seq, actual_output), _ = next(train_gen)\n",
    "decoded_sentence = decode_sequence(input_seq)\n",
    "print('Input English sentence:', X_train[k:k+1].values[0])\n",
    "print('Actual Indonesia Translation:', y_train[k:k+1].values[0][8:-6])\n",
    "print('Predicted Indonesia Translation:', decoded_sentence[:-6])"
   ]
  },
  {
   "cell_type": "code",
   "execution_count": 34,
   "id": "6de03316",
   "metadata": {
    "execution": {
     "iopub.execute_input": "2021-11-16T17:35:28.350873Z",
     "iopub.status.busy": "2021-11-16T17:35:28.350338Z",
     "iopub.status.idle": "2021-11-16T17:35:28.775996Z",
     "shell.execute_reply": "2021-11-16T17:35:28.775343Z",
     "shell.execute_reply.started": "2021-11-16T14:09:36.117606Z"
    },
    "papermill": {
     "duration": 0.864954,
     "end_time": "2021-11-16T17:35:28.776154",
     "exception": false,
     "start_time": "2021-11-16T17:35:27.911200",
     "status": "completed"
    },
    "tags": []
   },
   "outputs": [
    {
     "name": "stdout",
     "output_type": "stream",
     "text": [
      "Input English sentence: i had so many examples i have so many instances like this , when i m writing a story , and i cannot explain it .\n",
      "Actual Indonesia Translation: saya memiliki banyak sekali contoh saya memiliki banyak sekali kejadian seperti ini ketika saya menulis suatu cerita , dan saya tidak dapat menjelaskannya .\n",
      "Predicted Indonesia Translation:  saya tidak tahu bahwa saya tidak tahu , saya\n"
     ]
    }
   ],
   "source": [
    "k+=1\n",
    "(input_seq, actual_output), _ = next(train_gen)\n",
    "decoded_sentence = decode_sequence(input_seq)\n",
    "print('Input English sentence:', X_train[k:k+1].values[0])\n",
    "print('Actual Indonesia Translation:', y_train[k:k+1].values[0][8:-6])\n",
    "print('Predicted Indonesia Translation:', decoded_sentence[:-6])"
   ]
  },
  {
   "cell_type": "code",
   "execution_count": 35,
   "id": "462494bb",
   "metadata": {
    "execution": {
     "iopub.execute_input": "2021-11-16T17:35:29.646983Z",
     "iopub.status.busy": "2021-11-16T17:35:29.646141Z",
     "iopub.status.idle": "2021-11-16T17:35:30.102988Z",
     "shell.execute_reply": "2021-11-16T17:35:30.103586Z",
     "shell.execute_reply.started": "2021-11-16T14:09:36.119052Z"
    },
    "papermill": {
     "duration": 0.894281,
     "end_time": "2021-11-16T17:35:30.103809",
     "exception": false,
     "start_time": "2021-11-16T17:35:29.209528",
     "status": "completed"
    },
    "tags": []
   },
   "outputs": [
    {
     "name": "stdout",
     "output_type": "stream",
     "text": [
      "Input English sentence: and the top thing , actually , is the deskbar .\n",
      "Actual Indonesia Translation: yang paling atas adalah deskbar .\n",
      "Predicted Indonesia Translation:  dan itu , adalah hal yang paling penting .\n"
     ]
    }
   ],
   "source": [
    "k+=1\n",
    "(input_seq, actual_output), _ = next(train_gen)\n",
    "decoded_sentence = decode_sequence(input_seq)\n",
    "print('Input English sentence:', X_train[k:k+1].values[0])\n",
    "print('Actual Indonesia Translation:', y_train[k:k+1].values[0][8:-6])\n",
    "print('Predicted Indonesia Translation:', decoded_sentence[:-6])"
   ]
  },
  {
   "cell_type": "code",
   "execution_count": 36,
   "id": "546c5839",
   "metadata": {
    "execution": {
     "iopub.execute_input": "2021-11-16T17:35:30.974599Z",
     "iopub.status.busy": "2021-11-16T17:35:30.972762Z",
     "iopub.status.idle": "2021-11-16T17:35:31.406962Z",
     "shell.execute_reply": "2021-11-16T17:35:31.408102Z",
     "shell.execute_reply.started": "2021-11-16T14:09:36.120526Z"
    },
    "papermill": {
     "duration": 0.867927,
     "end_time": "2021-11-16T17:35:31.408312",
     "exception": false,
     "start_time": "2021-11-16T17:35:30.540385",
     "status": "completed"
    },
    "tags": []
   },
   "outputs": [
    {
     "name": "stdout",
     "output_type": "stream",
     "text": [
      "Input English sentence: and we were asked to participate in a few projects before this .\n",
      "Actual Indonesia Translation: kami telah diminta untuk berpartisipasi pada beberapa proyek sebelum ini .\n",
      "Predicted Indonesia Translation:  dan kami mulai menemukan bahwa kami mulai meliha\n"
     ]
    }
   ],
   "source": [
    "k+=1\n",
    "(input_seq, actual_output), _ = next(train_gen)\n",
    "decoded_sentence = decode_sequence(input_seq)\n",
    "print('Input English sentence:', X_train[k:k+1].values[0])\n",
    "print('Actual Indonesia Translation:', y_train[k:k+1].values[0][8:-6])\n",
    "print('Predicted Indonesia Translation:', decoded_sentence[:-6])"
   ]
  },
  {
   "cell_type": "code",
   "execution_count": 37,
   "id": "6c4293f9",
   "metadata": {
    "execution": {
     "iopub.execute_input": "2021-11-16T17:35:32.278769Z",
     "iopub.status.busy": "2021-11-16T17:35:32.277936Z",
     "iopub.status.idle": "2021-11-16T17:35:32.654843Z",
     "shell.execute_reply": "2021-11-16T17:35:32.654102Z",
     "shell.execute_reply.started": "2021-11-16T14:09:36.12175Z"
    },
    "papermill": {
     "duration": 0.81643,
     "end_time": "2021-11-16T17:35:32.655021",
     "exception": false,
     "start_time": "2021-11-16T17:35:31.838591",
     "status": "completed"
    },
    "tags": []
   },
   "outputs": [
    {
     "name": "stdout",
     "output_type": "stream",
     "text": [
      "Input English sentence: that is , military science and technology that they need can create the advanced materials industrial cluster that transforms its civilian economy and gets the country off oil , which would be a huge contribution to eliminating conflict over oil and advancing national and global security .\n",
      "Actual Indonesia Translation: bahwa ilmu pengetahuan dan teknologi militer yang mereka butuhkan dapat menciptakan gugus material industrial yang canggih yang mengubah ekonomi sipil dan membebaskan negara dari minyak , yang akan menjadi kontribusi besar untuk penghapusan konflik karena minyak dan meningkatkan keamanan national dan global .\n",
      "Predicted Indonesia Translation:  ini adalah sebuah sebuah pengetahuan yang tela\n"
     ]
    }
   ],
   "source": [
    "k+=1\n",
    "(input_seq, actual_output), _ = next(train_gen)\n",
    "decoded_sentence = decode_sequence(input_seq)\n",
    "print('Input English sentence:', X_train[k:k+1].values[0])\n",
    "print('Actual Indonesia Translation:', y_train[k:k+1].values[0][8:-6])\n",
    "print('Predicted Indonesia Translation:', decoded_sentence[:-6])"
   ]
  },
  {
   "cell_type": "code",
   "execution_count": 38,
   "id": "f5e153d2",
   "metadata": {
    "execution": {
     "iopub.execute_input": "2021-11-16T17:35:33.524144Z",
     "iopub.status.busy": "2021-11-16T17:35:33.522860Z",
     "iopub.status.idle": "2021-11-16T17:35:33.551770Z",
     "shell.execute_reply": "2021-11-16T17:35:33.552200Z",
     "shell.execute_reply.started": "2021-11-16T14:09:36.122992Z"
    },
    "papermill": {
     "duration": 0.461689,
     "end_time": "2021-11-16T17:35:33.552345",
     "exception": false,
     "start_time": "2021-11-16T17:35:33.090656",
     "status": "completed"
    },
    "tags": []
   },
   "outputs": [],
   "source": [
    "from sacrebleu.metrics import BLEU\n",
    "\n",
    "bleu = BLEU()"
   ]
  },
  {
   "cell_type": "code",
   "execution_count": 39,
   "id": "6c29b755",
   "metadata": {
    "execution": {
     "iopub.execute_input": "2021-11-16T17:35:34.419038Z",
     "iopub.status.busy": "2021-11-16T17:35:34.417457Z",
     "iopub.status.idle": "2021-11-16T17:35:34.419657Z",
     "shell.execute_reply": "2021-11-16T17:35:34.420085Z",
     "shell.execute_reply.started": "2021-11-16T14:09:36.124521Z"
    },
    "papermill": {
     "duration": 0.439505,
     "end_time": "2021-11-16T17:35:34.420223",
     "exception": false,
     "start_time": "2021-11-16T17:35:33.980718",
     "status": "completed"
    },
    "tags": []
   },
   "outputs": [],
   "source": [
    "refs = [[sentence[8:-6] for sentence in y_test]]"
   ]
  },
  {
   "cell_type": "code",
   "execution_count": 40,
   "id": "c943e54c",
   "metadata": {
    "execution": {
     "iopub.execute_input": "2021-11-16T17:35:35.563400Z",
     "iopub.status.busy": "2021-11-16T17:35:35.562557Z",
     "iopub.status.idle": "2021-11-16T17:53:10.176936Z",
     "shell.execute_reply": "2021-11-16T17:53:10.177362Z",
     "shell.execute_reply.started": "2021-11-16T14:09:36.125828Z"
    },
    "papermill": {
     "duration": 1055.323242,
     "end_time": "2021-11-16T17:53:10.177535",
     "exception": false,
     "start_time": "2021-11-16T17:35:34.854293",
     "status": "completed"
    },
    "tags": []
   },
   "outputs": [
    {
     "name": "stdout",
     "output_type": "stream",
     "text": [
      "2399\r"
     ]
    }
   ],
   "source": [
    "hyps = []\n",
    "test_gen = generate_batch(X_test, y_test, batch_size = 1)\n",
    "for i in range(len(X_test)):\n",
    "    (input_seq, actual_output), _ = next(test_gen)\n",
    "    hyps.append(decode_sequence(input_seq)[1:-6])\n",
    "    print(i, end='\\r')"
   ]
  },
  {
   "cell_type": "code",
   "execution_count": 41,
   "id": "361b77b1",
   "metadata": {
    "execution": {
     "iopub.execute_input": "2021-11-16T17:53:12.548682Z",
     "iopub.status.busy": "2021-11-16T17:53:12.547738Z",
     "iopub.status.idle": "2021-11-16T17:53:13.000956Z",
     "shell.execute_reply": "2021-11-16T17:53:13.000270Z",
     "shell.execute_reply.started": "2021-11-16T14:09:36.127044Z"
    },
    "papermill": {
     "duration": 1.642356,
     "end_time": "2021-11-16T17:53:13.001125",
     "exception": false,
     "start_time": "2021-11-16T17:53:11.358769",
     "status": "completed"
    },
    "tags": []
   },
   "outputs": [
    {
     "name": "stdout",
     "output_type": "stream",
     "text": [
      "BLEU = 0.87 31.7/6.0/1.3/0.2 (BP = 0.321 ratio = 0.468 hyp_len = 19935 ref_len = 42593)\n"
     ]
    }
   ],
   "source": [
    "result = bleu.corpus_score(hyps, refs)\n",
    "print(result)"
   ]
  }
 ],
 "metadata": {
  "kernelspec": {
   "display_name": "Python 3",
   "language": "python",
   "name": "python3"
  },
  "language_info": {
   "codemirror_mode": {
    "name": "ipython",
    "version": 3
   },
   "file_extension": ".py",
   "mimetype": "text/x-python",
   "name": "python",
   "nbconvert_exporter": "python",
   "pygments_lexer": "ipython3",
   "version": "3.7.10"
  },
  "papermill": {
   "default_parameters": {},
   "duration": 2700.169269,
   "end_time": "2021-11-16T17:53:16.812227",
   "environment_variables": {},
   "exception": null,
   "input_path": "__notebook__.ipynb",
   "output_path": "__notebook__.ipynb",
   "parameters": {},
   "start_time": "2021-11-16T17:08:16.642958",
   "version": "2.3.3"
  }
 },
 "nbformat": 4,
 "nbformat_minor": 5
}
